{
  "cells": [
    {
      "cell_type": "markdown",
      "metadata": {
        "id": "view-in-github",
        "colab_type": "text"
      },
      "source": [
        "<a href=\"https://colab.research.google.com/github/Leyladeligoz/Sound/blob/main/Untitled0.ipynb\" target=\"_parent\"><img src=\"https://colab.research.google.com/assets/colab-badge.svg\" alt=\"Open In Colab\"/></a>"
      ]
    },
    {
      "cell_type": "code",
      "execution_count": null,
      "metadata": {
        "colab": {
          "base_uri": "https://localhost:8080/"
        },
        "id": "ngFQVHFkgMLs",
        "outputId": "2989093e-3623-4a8c-d43c-79c9df9a4d09"
      },
      "outputs": [
        {
          "output_type": "stream",
          "name": "stdout",
          "text": [
            "Looking in indexes: https://pypi.org/simple, https://us-python.pkg.dev/colab-wheels/public/simple/\n",
            "Requirement already satisfied: Tensorflow in /usr/local/lib/python3.7/dist-packages (2.8.2+zzzcolab20220719082949)\n",
            "Requirement already satisfied: astunparse>=1.6.0 in /usr/local/lib/python3.7/dist-packages (from Tensorflow) (1.6.3)\n",
            "Requirement already satisfied: setuptools in /usr/local/lib/python3.7/dist-packages (from Tensorflow) (57.4.0)\n",
            "Requirement already satisfied: termcolor>=1.1.0 in /usr/local/lib/python3.7/dist-packages (from Tensorflow) (1.1.0)\n",
            "Requirement already satisfied: tensorflow-estimator<2.9,>=2.8 in /usr/local/lib/python3.7/dist-packages (from Tensorflow) (2.8.0)\n",
            "Requirement already satisfied: google-pasta>=0.1.1 in /usr/local/lib/python3.7/dist-packages (from Tensorflow) (0.2.0)\n",
            "Requirement already satisfied: numpy>=1.20 in /usr/local/lib/python3.7/dist-packages (from Tensorflow) (1.21.6)\n",
            "Requirement already satisfied: tensorflow-io-gcs-filesystem>=0.23.1 in /usr/local/lib/python3.7/dist-packages (from Tensorflow) (0.26.0)\n",
            "Requirement already satisfied: wrapt>=1.11.0 in /usr/local/lib/python3.7/dist-packages (from Tensorflow) (1.14.1)\n",
            "Requirement already satisfied: flatbuffers>=1.12 in /usr/local/lib/python3.7/dist-packages (from Tensorflow) (2.0.7)\n",
            "Requirement already satisfied: protobuf<3.20,>=3.9.2 in /usr/local/lib/python3.7/dist-packages (from Tensorflow) (3.17.3)\n",
            "Requirement already satisfied: h5py>=2.9.0 in /usr/local/lib/python3.7/dist-packages (from Tensorflow) (3.1.0)\n",
            "Requirement already satisfied: libclang>=9.0.1 in /usr/local/lib/python3.7/dist-packages (from Tensorflow) (14.0.6)\n",
            "Requirement already satisfied: keras-preprocessing>=1.1.1 in /usr/local/lib/python3.7/dist-packages (from Tensorflow) (1.1.2)\n",
            "Requirement already satisfied: gast>=0.2.1 in /usr/local/lib/python3.7/dist-packages (from Tensorflow) (0.5.3)\n",
            "Requirement already satisfied: opt-einsum>=2.3.2 in /usr/local/lib/python3.7/dist-packages (from Tensorflow) (3.3.0)\n",
            "Requirement already satisfied: typing-extensions>=3.6.6 in /usr/local/lib/python3.7/dist-packages (from Tensorflow) (4.1.1)\n",
            "Requirement already satisfied: absl-py>=0.4.0 in /usr/local/lib/python3.7/dist-packages (from Tensorflow) (1.2.0)\n",
            "Requirement already satisfied: tensorboard<2.9,>=2.8 in /usr/local/lib/python3.7/dist-packages (from Tensorflow) (2.8.0)\n",
            "Requirement already satisfied: grpcio<2.0,>=1.24.3 in /usr/local/lib/python3.7/dist-packages (from Tensorflow) (1.48.1)\n",
            "Requirement already satisfied: six>=1.12.0 in /usr/local/lib/python3.7/dist-packages (from Tensorflow) (1.15.0)\n",
            "Requirement already satisfied: keras<2.9,>=2.8.0rc0 in /usr/local/lib/python3.7/dist-packages (from Tensorflow) (2.8.0)\n",
            "Requirement already satisfied: wheel<1.0,>=0.23.0 in /usr/local/lib/python3.7/dist-packages (from astunparse>=1.6.0->Tensorflow) (0.37.1)\n",
            "Requirement already satisfied: cached-property in /usr/local/lib/python3.7/dist-packages (from h5py>=2.9.0->Tensorflow) (1.5.2)\n",
            "Requirement already satisfied: tensorboard-data-server<0.7.0,>=0.6.0 in /usr/local/lib/python3.7/dist-packages (from tensorboard<2.9,>=2.8->Tensorflow) (0.6.1)\n",
            "Requirement already satisfied: tensorboard-plugin-wit>=1.6.0 in /usr/local/lib/python3.7/dist-packages (from tensorboard<2.9,>=2.8->Tensorflow) (1.8.1)\n",
            "Requirement already satisfied: google-auth<3,>=1.6.3 in /usr/local/lib/python3.7/dist-packages (from tensorboard<2.9,>=2.8->Tensorflow) (1.35.0)\n",
            "Requirement already satisfied: requests<3,>=2.21.0 in /usr/local/lib/python3.7/dist-packages (from tensorboard<2.9,>=2.8->Tensorflow) (2.23.0)\n",
            "Requirement already satisfied: markdown>=2.6.8 in /usr/local/lib/python3.7/dist-packages (from tensorboard<2.9,>=2.8->Tensorflow) (3.4.1)\n",
            "Requirement already satisfied: werkzeug>=0.11.15 in /usr/local/lib/python3.7/dist-packages (from tensorboard<2.9,>=2.8->Tensorflow) (1.0.1)\n",
            "Requirement already satisfied: google-auth-oauthlib<0.5,>=0.4.1 in /usr/local/lib/python3.7/dist-packages (from tensorboard<2.9,>=2.8->Tensorflow) (0.4.6)\n",
            "Requirement already satisfied: pyasn1-modules>=0.2.1 in /usr/local/lib/python3.7/dist-packages (from google-auth<3,>=1.6.3->tensorboard<2.9,>=2.8->Tensorflow) (0.2.8)\n",
            "Requirement already satisfied: cachetools<5.0,>=2.0.0 in /usr/local/lib/python3.7/dist-packages (from google-auth<3,>=1.6.3->tensorboard<2.9,>=2.8->Tensorflow) (4.2.4)\n",
            "Requirement already satisfied: rsa<5,>=3.1.4 in /usr/local/lib/python3.7/dist-packages (from google-auth<3,>=1.6.3->tensorboard<2.9,>=2.8->Tensorflow) (4.9)\n",
            "Requirement already satisfied: requests-oauthlib>=0.7.0 in /usr/local/lib/python3.7/dist-packages (from google-auth-oauthlib<0.5,>=0.4.1->tensorboard<2.9,>=2.8->Tensorflow) (1.3.1)\n",
            "Requirement already satisfied: importlib-metadata>=4.4 in /usr/local/lib/python3.7/dist-packages (from markdown>=2.6.8->tensorboard<2.9,>=2.8->Tensorflow) (4.12.0)\n",
            "Requirement already satisfied: zipp>=0.5 in /usr/local/lib/python3.7/dist-packages (from importlib-metadata>=4.4->markdown>=2.6.8->tensorboard<2.9,>=2.8->Tensorflow) (3.8.1)\n",
            "Requirement already satisfied: pyasn1<0.5.0,>=0.4.6 in /usr/local/lib/python3.7/dist-packages (from pyasn1-modules>=0.2.1->google-auth<3,>=1.6.3->tensorboard<2.9,>=2.8->Tensorflow) (0.4.8)\n",
            "Requirement already satisfied: idna<3,>=2.5 in /usr/local/lib/python3.7/dist-packages (from requests<3,>=2.21.0->tensorboard<2.9,>=2.8->Tensorflow) (2.10)\n",
            "Requirement already satisfied: chardet<4,>=3.0.2 in /usr/local/lib/python3.7/dist-packages (from requests<3,>=2.21.0->tensorboard<2.9,>=2.8->Tensorflow) (3.0.4)\n",
            "Requirement already satisfied: certifi>=2017.4.17 in /usr/local/lib/python3.7/dist-packages (from requests<3,>=2.21.0->tensorboard<2.9,>=2.8->Tensorflow) (2022.6.15)\n",
            "Requirement already satisfied: urllib3!=1.25.0,!=1.25.1,<1.26,>=1.21.1 in /usr/local/lib/python3.7/dist-packages (from requests<3,>=2.21.0->tensorboard<2.9,>=2.8->Tensorflow) (1.24.3)\n",
            "Requirement already satisfied: oauthlib>=3.0.0 in /usr/local/lib/python3.7/dist-packages (from requests-oauthlib>=0.7.0->google-auth-oauthlib<0.5,>=0.4.1->tensorboard<2.9,>=2.8->Tensorflow) (3.2.0)\n"
          ]
        }
      ],
      "source": [
        "pip install Tensorflow\n"
      ]
    },
    {
      "cell_type": "code",
      "execution_count": null,
      "metadata": {
        "colab": {
          "base_uri": "https://localhost:8080/"
        },
        "id": "RINaO9aBgvwa",
        "outputId": "70331045-453a-49eb-db82-319e1154bf2e"
      },
      "outputs": [
        {
          "output_type": "stream",
          "name": "stdout",
          "text": [
            "Looking in indexes: https://pypi.org/simple, https://us-python.pkg.dev/colab-wheels/public/simple/\n",
            "Requirement already satisfied: librosa in /usr/local/lib/python3.7/dist-packages (0.8.1)\n",
            "Requirement already satisfied: resampy>=0.2.2 in /usr/local/lib/python3.7/dist-packages (from librosa) (0.4.0)\n",
            "Requirement already satisfied: scikit-learn!=0.19.0,>=0.14.0 in /usr/local/lib/python3.7/dist-packages (from librosa) (1.0.2)\n",
            "Requirement already satisfied: audioread>=2.0.0 in /usr/local/lib/python3.7/dist-packages (from librosa) (3.0.0)\n",
            "Requirement already satisfied: scipy>=1.0.0 in /usr/local/lib/python3.7/dist-packages (from librosa) (1.7.3)\n",
            "Requirement already satisfied: packaging>=20.0 in /usr/local/lib/python3.7/dist-packages (from librosa) (21.3)\n",
            "Requirement already satisfied: numpy>=1.15.0 in /usr/local/lib/python3.7/dist-packages (from librosa) (1.21.6)\n",
            "Requirement already satisfied: pooch>=1.0 in /usr/local/lib/python3.7/dist-packages (from librosa) (1.6.0)\n",
            "Requirement already satisfied: joblib>=0.14 in /usr/local/lib/python3.7/dist-packages (from librosa) (1.1.0)\n",
            "Requirement already satisfied: soundfile>=0.10.2 in /usr/local/lib/python3.7/dist-packages (from librosa) (0.10.3.post1)\n",
            "Requirement already satisfied: decorator>=3.0.0 in /usr/local/lib/python3.7/dist-packages (from librosa) (4.4.2)\n",
            "Requirement already satisfied: numba>=0.43.0 in /usr/local/lib/python3.7/dist-packages (from librosa) (0.56.2)\n",
            "Requirement already satisfied: setuptools<60 in /usr/local/lib/python3.7/dist-packages (from numba>=0.43.0->librosa) (57.4.0)\n",
            "Requirement already satisfied: llvmlite<0.40,>=0.39.0dev0 in /usr/local/lib/python3.7/dist-packages (from numba>=0.43.0->librosa) (0.39.1)\n",
            "Requirement already satisfied: importlib-metadata in /usr/local/lib/python3.7/dist-packages (from numba>=0.43.0->librosa) (4.12.0)\n",
            "Requirement already satisfied: pyparsing!=3.0.5,>=2.0.2 in /usr/local/lib/python3.7/dist-packages (from packaging>=20.0->librosa) (3.0.9)\n",
            "Requirement already satisfied: appdirs>=1.3.0 in /usr/local/lib/python3.7/dist-packages (from pooch>=1.0->librosa) (1.4.4)\n",
            "Requirement already satisfied: requests>=2.19.0 in /usr/local/lib/python3.7/dist-packages (from pooch>=1.0->librosa) (2.23.0)\n",
            "Requirement already satisfied: urllib3!=1.25.0,!=1.25.1,<1.26,>=1.21.1 in /usr/local/lib/python3.7/dist-packages (from requests>=2.19.0->pooch>=1.0->librosa) (1.24.3)\n",
            "Requirement already satisfied: certifi>=2017.4.17 in /usr/local/lib/python3.7/dist-packages (from requests>=2.19.0->pooch>=1.0->librosa) (2022.6.15)\n",
            "Requirement already satisfied: idna<3,>=2.5 in /usr/local/lib/python3.7/dist-packages (from requests>=2.19.0->pooch>=1.0->librosa) (2.10)\n",
            "Requirement already satisfied: chardet<4,>=3.0.2 in /usr/local/lib/python3.7/dist-packages (from requests>=2.19.0->pooch>=1.0->librosa) (3.0.4)\n",
            "Requirement already satisfied: threadpoolctl>=2.0.0 in /usr/local/lib/python3.7/dist-packages (from scikit-learn!=0.19.0,>=0.14.0->librosa) (3.1.0)\n",
            "Requirement already satisfied: cffi>=1.0 in /usr/local/lib/python3.7/dist-packages (from soundfile>=0.10.2->librosa) (1.15.1)\n",
            "Requirement already satisfied: pycparser in /usr/local/lib/python3.7/dist-packages (from cffi>=1.0->soundfile>=0.10.2->librosa) (2.21)\n",
            "Requirement already satisfied: typing-extensions>=3.6.4 in /usr/local/lib/python3.7/dist-packages (from importlib-metadata->numba>=0.43.0->librosa) (4.1.1)\n",
            "Requirement already satisfied: zipp>=0.5 in /usr/local/lib/python3.7/dist-packages (from importlib-metadata->numba>=0.43.0->librosa) (3.8.1)\n"
          ]
        }
      ],
      "source": [
        "pip install librosa\n"
      ]
    },
    {
      "cell_type": "code",
      "execution_count": null,
      "metadata": {
        "id": "a-qSN49ch5u8"
      },
      "outputs": [],
      "source": [
        "import matplotlib.pyplot as plt\n",
        "import pandas as pd\n",
        "import os\n",
        "import librosa\n",
        "import numpy as np\n",
        "\n",
        "from tqdm import tqdm\n"
      ]
    },
    {
      "cell_type": "code",
      "execution_count": null,
      "metadata": {
        "id": "XH5zjWpsh8xP"
      },
      "outputs": [],
      "source": [
        "from sklearn.model_selection import train_test_split\n",
        "from tensorflow.keras.utils import to_categorical\n",
        "from sklearn.preprocessing import LabelEncoder\n",
        "from tensorflow.keras.models import Sequential\n",
        "from tensorflow.keras.layers import Dense,Dropout,Activation,Flatten\n",
        "from tensorflow.keras.optimizers import Adam\n"
      ]
    },
    {
      "cell_type": "code",
      "execution_count": null,
      "metadata": {
        "id": "FHJSgeHoiBvv"
      },
      "outputs": [],
      "source": [
        "from sklearn import metrics\n",
        "from tensorflow.keras.callbacks import ModelCheckpoint\n",
        "from datetime import datetime\n"
      ]
    },
    {
      "cell_type": "code",
      "execution_count": null,
      "metadata": {
        "id": "CCL_2_QoilTa"
      },
      "outputs": [],
      "source": [
        "import librosa \n",
        "audio_file_path=\"/content/drive/MyDrive/UrbanSound8K/UrbanSound8K/audio/fold1/101415-3-0-2.wav\"\n",
        "librosa_audio_data,librosa_sample_rate=librosa.load(audio_file_path)\n"
      ]
    },
    {
      "cell_type": "code",
      "execution_count": null,
      "metadata": {
        "colab": {
          "base_uri": "https://localhost:8080/"
        },
        "id": "ecM7g9nQjn6r",
        "outputId": "5055dfef-51f4-4e29-a82e-73ac2d820eaf"
      },
      "outputs": [
        {
          "output_type": "stream",
          "name": "stdout",
          "text": [
            "[-0.00011662 -0.00017163 -0.00017833 ... -0.04541198 -0.04675572\n",
            " -0.05040179]\n"
          ]
        }
      ],
      "source": [
        "print(librosa_audio_data)"
      ]
    },
    {
      "cell_type": "code",
      "execution_count": null,
      "metadata": {
        "colab": {
          "base_uri": "https://localhost:8080/"
        },
        "id": "vR3_rsGZkO41",
        "outputId": "b1f64d13-7044-4cac-c1dc-54fcae2d62e3"
      },
      "outputs": [
        {
          "output_type": "execute_result",
          "data": {
            "text/plain": [
              "array([-0.00011662, -0.00017163, -0.00017833, ..., -0.04541198,\n",
              "       -0.04675572, -0.05040179], dtype=float32)"
            ]
          },
          "metadata": {},
          "execution_count": 8
        }
      ],
      "source": [
        "librosa_audio_data"
      ]
    },
    {
      "cell_type": "code",
      "execution_count": null,
      "metadata": {
        "colab": {
          "base_uri": "https://localhost:8080/",
          "height": 265
        },
        "id": "0BZMNq1Gkgas",
        "outputId": "71872d72-0251-4c67-a6fe-6e306a10e588"
      },
      "outputs": [
        {
          "output_type": "display_data",
          "data": {
            "text/plain": [
              "<Figure size 864x288 with 1 Axes>"
            ],
            "image/png": "[encoded data removed]"
          },
          "metadata": {
            "needs_background": "light"
          }
        }
      ],
      "source": [
        "plt.figure(figsize=(12,4))\n",
        "plt.plot(librosa_audio_data)\n",
        "plt.show()"
      ]
    },
    {
      "cell_type": "code",
      "execution_count": null,
      "metadata": {
        "id": "OYTdI-kslNtO"
      },
      "outputs": [],
      "source": [
        "mfcss=librosa.feature.mfcc(y=librosa_audio_data, sr=librosa_sample_rate, n_mfcc=40)"
      ]
    },
    {
      "cell_type": "code",
      "execution_count": null,
      "metadata": {
        "colab": {
          "base_uri": "https://localhost:8080/"
        },
        "id": "D8xOoDPBljdr",
        "outputId": "fb39d47a-7f7b-43fa-cd12-cd712bac621a"
      },
      "outputs": [
        {
          "output_type": "execute_result",
          "data": {
            "text/plain": [
              "(40, 173)"
            ]
          },
          "metadata": {},
          "execution_count": 11
        }
      ],
      "source": [
        "mfcss.shape"
      ]
    },
    {
      "cell_type": "code",
      "execution_count": null,
      "metadata": {
        "colab": {
          "base_uri": "https://localhost:8080/",
          "height": 206
        },
        "id": "hyYVrmsYl-Do",
        "outputId": "2e1d2b60-6adf-44c0-add3-b1161ca51816"
      },
      "outputs": [
        {
          "output_type": "execute_result",
          "data": {
            "text/plain": [
              "      slice_file_name    fsID  start        end  salience  fold  classID  \\\n",
              "0    100032-3-0-0.wav  100032    0.0   0.317551         1     5        3   \n",
              "1  100263-2-0-117.wav  100263   58.5  62.500000         1     5        2   \n",
              "2  100263-2-0-121.wav  100263   60.5  64.500000         1     5        2   \n",
              "3  100263-2-0-126.wav  100263   63.0  67.000000         1     5        2   \n",
              "4  100263-2-0-137.wav  100263   68.5  72.500000         1     5        2   \n",
              "\n",
              "              class  \n",
              "0          dog_bark  \n",
              "1  children_playing  \n",
              "2  children_playing  \n",
              "3  children_playing  \n",
              "4  children_playing  "
            ],
            "text/html": [
              "\n",
              "  <div id=\"df-b7bc9ee0-f5c0-4bd8-b40f-90152eb2d2da\">\n",
              "    <div class=\"colab-df-container\">\n",
              "      <div>\n",
              "<style scoped>\n",
              "    .dataframe tbody tr th:only-of-type {\n",
              "        vertical-align: middle;\n",
              "    }\n",
              "\n",
              "    .dataframe tbody tr th {\n",
              "        vertical-align: top;\n",
              "    }\n",
              "\n",
              "    .dataframe thead th {\n",
              "        text-align: right;\n",
              "    }\n",
              "</style>\n",
              "<table border=\"1\" class=\"dataframe\">\n",
              "  <thead>\n",
              "    <tr style=\"text-align: right;\">\n",
              "      <th></th>\n",
              "      <th>slice_file_name</th>\n",
              "      <th>fsID</th>\n",
              "      <th>start</th>\n",
              "      <th>end</th>\n",
              "      <th>salience</th>\n",
              "      <th>fold</th>\n",
              "      <th>classID</th>\n",
              "      <th>class</th>\n",
              "    </tr>\n",
              "  </thead>\n",
              "  <tbody>\n",
              "    <tr>\n",
              "      <th>0</th>\n",
              "      <td>100032-3-0-0.wav</td>\n",
              "      <td>100032</td>\n",
              "      <td>0.0</td>\n",
              "      <td>0.317551</td>\n",
              "      <td>1</td>\n",
              "      <td>5</td>\n",
              "      <td>3</td>\n",
              "      <td>dog_bark</td>\n",
              "    </tr>\n",
              "    <tr>\n",
              "      <th>1</th>\n",
              "      <td>100263-2-0-117.wav</td>\n",
              "      <td>100263</td>\n",
              "      <td>58.5</td>\n",
              "      <td>62.500000</td>\n",
              "      <td>1</td>\n",
              "      <td>5</td>\n",
              "      <td>2</td>\n",
              "      <td>children_playing</td>\n",
              "    </tr>\n",
              "    <tr>\n",
              "      <th>2</th>\n",
              "      <td>100263-2-0-121.wav</td>\n",
              "      <td>100263</td>\n",
              "      <td>60.5</td>\n",
              "      <td>64.500000</td>\n",
              "      <td>1</td>\n",
              "      <td>5</td>\n",
              "      <td>2</td>\n",
              "      <td>children_playing</td>\n",
              "    </tr>\n",
              "    <tr>\n",
              "      <th>3</th>\n",
              "      <td>100263-2-0-126.wav</td>\n",
              "      <td>100263</td>\n",
              "      <td>63.0</td>\n",
              "      <td>67.000000</td>\n",
              "      <td>1</td>\n",
              "      <td>5</td>\n",
              "      <td>2</td>\n",
              "      <td>children_playing</td>\n",
              "    </tr>\n",
              "    <tr>\n",
              "      <th>4</th>\n",
              "      <td>100263-2-0-137.wav</td>\n",
              "      <td>100263</td>\n",
              "      <td>68.5</td>\n",
              "      <td>72.500000</td>\n",
              "      <td>1</td>\n",
              "      <td>5</td>\n",
              "      <td>2</td>\n",
              "      <td>children_playing</td>\n",
              "    </tr>\n",
              "  </tbody>\n",
              "</table>\n",
              "</div>\n",
              "      <button class=\"colab-df-convert\" onclick=\"convertToInteractive('df-b7bc9ee0-f5c0-4bd8-b40f-90152eb2d2da')\"\n",
              "              title=\"Convert this dataframe to an interactive table.\"\n",
              "              style=\"display:none;\">\n",
              "        \n",
              "  <svg xmlns=\"http://www.w3.org/2000/svg\" height=\"24px\"viewBox=\"0 0 24 24\"\n",
              "       width=\"24px\">\n",
              "    <path d=\"M0 0h24v24H0V0z\" fill=\"none\"/>\n",
              "    <path d=\"M18.56 5.44l.94 2.06.94-2.06 2.06-.94-2.06-.94-.94-2.06-.94 2.06-2.06.94zm-11 1L8.5 8.5l.94-2.06 2.06-.94-2.06-.94L8.5 2.5l-.94 2.06-2.06.94zm10 10l.94 2.06.94-2.06 2.06-.94-2.06-.94-.94-2.06-.94 2.06-2.06.94z\"/><path d=\"M17.41 7.96l-1.37-1.37c-.4-.4-.92-.59-1.43-.59-.52 0-1.04.2-1.43.59L10.3 9.45l-7.72 7.72c-.78.78-.78 2.05 0 2.83L4 21.41c.39.39.9.59 1.41.59.51 0 1.02-.2 1.41-.59l7.78-7.78 2.81-2.81c.8-.78.8-2.07 0-2.86zM5.41 20L4 18.59l7.72-7.72 1.47 1.35L5.41 20z\"/>\n",
              "  </svg>\n",
              "      </button>\n",
              "      \n",
              "  <style>\n",
              "    .colab-df-container {\n",
              "      display:flex;\n",
              "      flex-wrap:wrap;\n",
              "      gap: 12px;\n",
              "    }\n",
              "\n",
              "    .colab-df-convert {\n",
              "      background-color: #E8F0FE;\n",
              "      border: none;\n",
              "      border-radius: 50%;\n",
              "      cursor: pointer;\n",
              "      display: none;\n",
              "      fill: #1967D2;\n",
              "      height: 32px;\n",
              "      padding: 0 0 0 0;\n",
              "      width: 32px;\n",
              "    }\n",
              "\n",
              "    .colab-df-convert:hover {\n",
              "      background-color: #E2EBFA;\n",
              "      box-shadow: 0px 1px 2px rgba(60, 64, 67, 0.3), 0px 1px 3px 1px rgba(60, 64, 67, 0.15);\n",
              "      fill: #174EA6;\n",
              "    }\n",
              "\n",
              "    [theme=dark] .colab-df-convert {\n",
              "      background-color: #3B4455;\n",
              "      fill: #D2E3FC;\n",
              "    }\n",
              "\n",
              "    [theme=dark] .colab-df-convert:hover {\n",
              "      background-color: #434B5C;\n",
              "      box-shadow: 0px 1px 3px 1px rgba(0, 0, 0, 0.15);\n",
              "      filter: drop-shadow(0px 1px 2px rgba(0, 0, 0, 0.3));\n",
              "      fill: #FFFFFF;\n",
              "    }\n",
              "  </style>\n",
              "\n",
              "      <script>\n",
              "        const buttonEl =\n",
              "          document.querySelector('#df-b7bc9ee0-f5c0-4bd8-b40f-90152eb2d2da button.colab-df-convert');\n",
              "        buttonEl.style.display =\n",
              "          google.colab.kernel.accessAllowed ? 'block' : 'none';\n",
              "\n",
              "        async function convertToInteractive(key) {\n",
              "          const element = document.querySelector('#df-b7bc9ee0-f5c0-4bd8-b40f-90152eb2d2da');\n",
              "          const dataTable =\n",
              "            await google.colab.kernel.invokeFunction('convertToInteractive',\n",
              "                                                     [key], {});\n",
              "          if (!dataTable) return;\n",
              "\n",
              "          const docLinkHtml = 'Like what you see? Visit the ' +\n",
              "            '<a target=\"_blank\" href=https://colab.research.google.com/notebooks/data_table.ipynb>data table notebook</a>'\n",
              "            + ' to learn more about interactive tables.';\n",
              "          element.innerHTML = '';\n",
              "          dataTable['output_type'] = 'display_data';\n",
              "          await google.colab.output.renderOutput(dataTable, element);\n",
              "          const docLink = document.createElement('div');\n",
              "          docLink.innerHTML = docLinkHtml;\n",
              "          element.appendChild(docLink);\n",
              "        }\n",
              "      </script>\n",
              "    </div>\n",
              "  </div>\n",
              "  "
            ]
          },
          "metadata": {},
          "execution_count": 12
        }
      ],
      "source": [
        "audio_dataset_path=\"/content/drive/MyDrive/UrbanSound8K/UrbanSound8K/audio\"\n",
        "metadata=pd.read_csv(\"/content/drive/MyDrive/UrbanSound8K/UrbanSound8K/metadata/UrbanSound8K.csv\")\n",
        "metadata.head()"
      ]
    },
    {
      "cell_type": "code",
      "execution_count": null,
      "metadata": {
        "id": "wziJdhp0mhdX"
      },
      "outputs": [],
      "source": [
        "def feature_extractor(file):\n",
        "  audio,sample_rate=librosa.load(file_name,res_type=\"kaiser_fast\")\n",
        "  mfcss_features=librosa.feature.mfcc(y=audio,sr=sample_rate,n_mfcc=40)\n",
        "  mfcss_scaled_features=np.mean(mfcss_features.T,axis=0)\n",
        "\n",
        "  return mfcss_scaled_features"
      ]
    },
    {
      "cell_type": "code",
      "execution_count": null,
      "metadata": {
        "colab": {
          "base_uri": "https://localhost:8080/"
        },
        "id": "SCWdGD9Foaf7",
        "outputId": "5e442c69-3c7e-48c9-9a9e-7a7ed42586f4"
      },
      "outputs": [
        {
          "output_type": "stream",
          "name": "stderr",
          "text": [
            "3555it [19:16,  3.03it/s]/usr/local/lib/python3.7/dist-packages/librosa/core/spectrum.py:224: UserWarning: n_fft=2048 is too small for input signal of length=1323\n",
            "  n_fft, y.shape[-1]\n",
            "8326it [44:28,  3.74it/s]/usr/local/lib/python3.7/dist-packages/librosa/core/spectrum.py:224: UserWarning: n_fft=2048 is too small for input signal of length=1103\n",
            "  n_fft, y.shape[-1]\n",
            "8329it [44:28,  4.10it/s]/usr/local/lib/python3.7/dist-packages/librosa/core/spectrum.py:224: UserWarning: n_fft=2048 is too small for input signal of length=1523\n",
            "  n_fft, y.shape[-1]\n",
            "8732it [46:34,  3.12it/s]\n"
          ]
        }
      ],
      "source": [
        "extracted_features=[]\n",
        "for index_num,row in tqdm(metadata.iterrows()):\n",
        "  file_name=os.path.join(os.path.abspath(audio_dataset_path),\"fold\"+str(row[\"fold\"])+\"/\",str(row[\"slice_file_name\"]))\n",
        "  final_class_labels=row[\"class\"]\n",
        "  data=feature_extractor(file_name)\n",
        "  extracted_features.append([data,final_class_labels])"
      ]
    },
    {
      "cell_type": "code",
      "execution_count": null,
      "metadata": {
        "colab": {
          "base_uri": "https://localhost:8080/"
        },
        "id": "b9WXGuYk0mBn",
        "outputId": "118e961a-6ebe-4de0-9bb4-cac2ec64ad3f"
      },
      "outputs": [
        {
          "output_type": "stream",
          "name": "stdout",
          "text": [
            "[-0.00011662 -0.00017163 -0.00017833 ... -0.04541198 -0.04675572\n",
            " -0.05040179]\n"
          ]
        }
      ],
      "source": [
        "print(librosa_audio_data)"
      ]
    },
    {
      "cell_type": "code",
      "execution_count": null,
      "metadata": {
        "colab": {
          "base_uri": "https://localhost:8080/",
          "height": 206
        },
        "id": "9799MWgeyA5J",
        "outputId": "ccf8a2ef-c0d2-47ba-889d-860b55ed588f"
      },
      "outputs": [
        {
          "output_type": "execute_result",
          "data": {
            "text/plain": [
              "                                            features             class\n",
              "0  [-214.95764, 70.502464, -130.70279, -53.116936...          dog_bark\n",
              "1  [-423.7311, 109.2299, -52.872597, 60.827538, 0...  children_playing\n",
              "2  [-458.52844, 121.35432, -46.535675, 51.969467,...  children_playing\n",
              "3  [-413.63254, 101.61351, -35.43868, 53.047146, ...  children_playing\n",
              "4  [-446.38693, 113.68634, -52.4572, 60.349724, 2...  children_playing"
            ],
            "text/html": [
              "\n",
              "  <div id=\"df-9affd308-32a8-4beb-8251-78c1b9c4ee32\">\n",
              "    <div class=\"colab-df-container\">\n",
              "      <div>\n",
              "<style scoped>\n",
              "    .dataframe tbody tr th:only-of-type {\n",
              "        vertical-align: middle;\n",
              "    }\n",
              "\n",
              "    .dataframe tbody tr th {\n",
              "        vertical-align: top;\n",
              "    }\n",
              "\n",
              "    .dataframe thead th {\n",
              "        text-align: right;\n",
              "    }\n",
              "</style>\n",
              "<table border=\"1\" class=\"dataframe\">\n",
              "  <thead>\n",
              "    <tr style=\"text-align: right;\">\n",
              "      <th></th>\n",
              "      <th>features</th>\n",
              "      <th>class</th>\n",
              "    </tr>\n",
              "  </thead>\n",
              "  <tbody>\n",
              "    <tr>\n",
              "      <th>0</th>\n",
              "      <td>[-214.95764, 70.502464, -130.70279, -53.116936...</td>\n",
              "      <td>dog_bark</td>\n",
              "    </tr>\n",
              "    <tr>\n",
              "      <th>1</th>\n",
              "      <td>[-423.7311, 109.2299, -52.872597, 60.827538, 0...</td>\n",
              "      <td>children_playing</td>\n",
              "    </tr>\n",
              "    <tr>\n",
              "      <th>2</th>\n",
              "      <td>[-458.52844, 121.35432, -46.535675, 51.969467,...</td>\n",
              "      <td>children_playing</td>\n",
              "    </tr>\n",
              "    <tr>\n",
              "      <th>3</th>\n",
              "      <td>[-413.63254, 101.61351, -35.43868, 53.047146, ...</td>\n",
              "      <td>children_playing</td>\n",
              "    </tr>\n",
              "    <tr>\n",
              "      <th>4</th>\n",
              "      <td>[-446.38693, 113.68634, -52.4572, 60.349724, 2...</td>\n",
              "      <td>children_playing</td>\n",
              "    </tr>\n",
              "  </tbody>\n",
              "</table>\n",
              "</div>\n",
              "      <button class=\"colab-df-convert\" onclick=\"convertToInteractive('df-9affd308-32a8-4beb-8251-78c1b9c4ee32')\"\n",
              "              title=\"Convert this dataframe to an interactive table.\"\n",
              "              style=\"display:none;\">\n",
              "        \n",
              "  <svg xmlns=\"http://www.w3.org/2000/svg\" height=\"24px\"viewBox=\"0 0 24 24\"\n",
              "       width=\"24px\">\n",
              "    <path d=\"M0 0h24v24H0V0z\" fill=\"none\"/>\n",
              "    <path d=\"M18.56 5.44l.94 2.06.94-2.06 2.06-.94-2.06-.94-.94-2.06-.94 2.06-2.06.94zm-11 1L8.5 8.5l.94-2.06 2.06-.94-2.06-.94L8.5 2.5l-.94 2.06-2.06.94zm10 10l.94 2.06.94-2.06 2.06-.94-2.06-.94-.94-2.06-.94 2.06-2.06.94z\"/><path d=\"M17.41 7.96l-1.37-1.37c-.4-.4-.92-.59-1.43-.59-.52 0-1.04.2-1.43.59L10.3 9.45l-7.72 7.72c-.78.78-.78 2.05 0 2.83L4 21.41c.39.39.9.59 1.41.59.51 0 1.02-.2 1.41-.59l7.78-7.78 2.81-2.81c.8-.78.8-2.07 0-2.86zM5.41 20L4 18.59l7.72-7.72 1.47 1.35L5.41 20z\"/>\n",
              "  </svg>\n",
              "      </button>\n",
              "      \n",
              "  <style>\n",
              "    .colab-df-container {\n",
              "      display:flex;\n",
              "      flex-wrap:wrap;\n",
              "      gap: 12px;\n",
              "    }\n",
              "\n",
              "    .colab-df-convert {\n",
              "      background-color: #E8F0FE;\n",
              "      border: none;\n",
              "      border-radius: 50%;\n",
              "      cursor: pointer;\n",
              "      display: none;\n",
              "      fill: #1967D2;\n",
              "      height: 32px;\n",
              "      padding: 0 0 0 0;\n",
              "      width: 32px;\n",
              "    }\n",
              "\n",
              "    .colab-df-convert:hover {\n",
              "      background-color: #E2EBFA;\n",
              "      box-shadow: 0px 1px 2px rgba(60, 64, 67, 0.3), 0px 1px 3px 1px rgba(60, 64, 67, 0.15);\n",
              "      fill: #174EA6;\n",
              "    }\n",
              "\n",
              "    [theme=dark] .colab-df-convert {\n",
              "      background-color: #3B4455;\n",
              "      fill: #D2E3FC;\n",
              "    }\n",
              "\n",
              "    [theme=dark] .colab-df-convert:hover {\n",
              "      background-color: #434B5C;\n",
              "      box-shadow: 0px 1px 3px 1px rgba(0, 0, 0, 0.15);\n",
              "      filter: drop-shadow(0px 1px 2px rgba(0, 0, 0, 0.3));\n",
              "      fill: #FFFFFF;\n",
              "    }\n",
              "  </style>\n",
              "\n",
              "      <script>\n",
              "        const buttonEl =\n",
              "          document.querySelector('#df-9affd308-32a8-4beb-8251-78c1b9c4ee32 button.colab-df-convert');\n",
              "        buttonEl.style.display =\n",
              "          google.colab.kernel.accessAllowed ? 'block' : 'none';\n",
              "\n",
              "        async function convertToInteractive(key) {\n",
              "          const element = document.querySelector('#df-9affd308-32a8-4beb-8251-78c1b9c4ee32');\n",
              "          const dataTable =\n",
              "            await google.colab.kernel.invokeFunction('convertToInteractive',\n",
              "                                                     [key], {});\n",
              "          if (!dataTable) return;\n",
              "\n",
              "          const docLinkHtml = 'Like what you see? Visit the ' +\n",
              "            '<a target=\"_blank\" href=https://colab.research.google.com/notebooks/data_table.ipynb>data table notebook</a>'\n",
              "            + ' to learn more about interactive tables.';\n",
              "          element.innerHTML = '';\n",
              "          dataTable['output_type'] = 'display_data';\n",
              "          await google.colab.output.renderOutput(dataTable, element);\n",
              "          const docLink = document.createElement('div');\n",
              "          docLink.innerHTML = docLinkHtml;\n",
              "          element.appendChild(docLink);\n",
              "        }\n",
              "      </script>\n",
              "    </div>\n",
              "  </div>\n",
              "  "
            ]
          },
          "metadata": {},
          "execution_count": 16
        }
      ],
      "source": [
        "extracted_features_df=pd.DataFrame(extracted_features,columns=[\"features\",\"class\"])\n",
        "extracted_features_df.head()"
      ]
    },
    {
      "cell_type": "code",
      "execution_count": null,
      "metadata": {
        "colab": {
          "base_uri": "https://localhost:8080/"
        },
        "id": "A1IUasYC3pYH",
        "outputId": "1607c922-d388-43d8-f113-ee39e30ae3d0"
      },
      "outputs": [
        {
          "output_type": "stream",
          "name": "stdout",
          "text": [
            "Looking in indexes: https://pypi.org/simple, https://us-python.pkg.dev/colab-wheels/public/simple/\n",
            "Requirement already satisfied: numpy in /usr/local/lib/python3.7/dist-packages (1.21.6)\n"
          ]
        }
      ],
      "source": [
        "pip install --upgrade numpy"
      ]
    },
    {
      "cell_type": "code",
      "execution_count": null,
      "metadata": {
        "id": "qRKCCWpm7gmA"
      },
      "outputs": [],
      "source": [
        "import librosa \n",
        "audio_file_path=\"/content/drive/MyDrive/UrbanSound8K/UrbanSound8K/audio/fold1/101415-3-0-2.wav\"\n",
        "librosa_audio_data,librosa_sample_rate=librosa.load(audio_file_path)"
      ]
    },
    {
      "cell_type": "code",
      "source": [
        "extracted_features_df=pd.DataFrame(extracted_features,columns=[\"features\",\"class\"])\n",
        "extracted_features_df.head() "
      ],
      "metadata": {
        "colab": {
          "base_uri": "https://localhost:8080/",
          "height": 206
        },
        "id": "bZqza9Zkuvla",
        "outputId": "c990ebac-9e38-4fde-dc56-bf3fbf761c5a"
      },
      "execution_count": null,
      "outputs": [
        {
          "output_type": "execute_result",
          "data": {
            "text/plain": [
              "                                            features             class\n",
              "0  [-214.95764, 70.502464, -130.70279, -53.116936...          dog_bark\n",
              "1  [-423.7311, 109.2299, -52.872597, 60.827538, 0...  children_playing\n",
              "2  [-458.52844, 121.35432, -46.535675, 51.969467,...  children_playing\n",
              "3  [-413.63254, 101.61351, -35.43868, 53.047146, ...  children_playing\n",
              "4  [-446.38693, 113.68634, -52.4572, 60.349724, 2...  children_playing"
            ],
            "text/html": [
              "\n",
              "  <div id=\"df-0b3f7445-fae0-40bd-906b-2a9b30b4a3c3\">\n",
              "    <div class=\"colab-df-container\">\n",
              "      <div>\n",
              "<style scoped>\n",
              "    .dataframe tbody tr th:only-of-type {\n",
              "        vertical-align: middle;\n",
              "    }\n",
              "\n",
              "    .dataframe tbody tr th {\n",
              "        vertical-align: top;\n",
              "    }\n",
              "\n",
              "    .dataframe thead th {\n",
              "        text-align: right;\n",
              "    }\n",
              "</style>\n",
              "<table border=\"1\" class=\"dataframe\">\n",
              "  <thead>\n",
              "    <tr style=\"text-align: right;\">\n",
              "      <th></th>\n",
              "      <th>features</th>\n",
              "      <th>class</th>\n",
              "    </tr>\n",
              "  </thead>\n",
              "  <tbody>\n",
              "    <tr>\n",
              "      <th>0</th>\n",
              "      <td>[-214.95764, 70.502464, -130.70279, -53.116936...</td>\n",
              "      <td>dog_bark</td>\n",
              "    </tr>\n",
              "    <tr>\n",
              "      <th>1</th>\n",
              "      <td>[-423.7311, 109.2299, -52.872597, 60.827538, 0...</td>\n",
              "      <td>children_playing</td>\n",
              "    </tr>\n",
              "    <tr>\n",
              "      <th>2</th>\n",
              "      <td>[-458.52844, 121.35432, -46.535675, 51.969467,...</td>\n",
              "      <td>children_playing</td>\n",
              "    </tr>\n",
              "    <tr>\n",
              "      <th>3</th>\n",
              "      <td>[-413.63254, 101.61351, -35.43868, 53.047146, ...</td>\n",
              "      <td>children_playing</td>\n",
              "    </tr>\n",
              "    <tr>\n",
              "      <th>4</th>\n",
              "      <td>[-446.38693, 113.68634, -52.4572, 60.349724, 2...</td>\n",
              "      <td>children_playing</td>\n",
              "    </tr>\n",
              "  </tbody>\n",
              "</table>\n",
              "</div>\n",
              "      <button class=\"colab-df-convert\" onclick=\"convertToInteractive('df-0b3f7445-fae0-40bd-906b-2a9b30b4a3c3')\"\n",
              "              title=\"Convert this dataframe to an interactive table.\"\n",
              "              style=\"display:none;\">\n",
              "        \n",
              "  <svg xmlns=\"http://www.w3.org/2000/svg\" height=\"24px\"viewBox=\"0 0 24 24\"\n",
              "       width=\"24px\">\n",
              "    <path d=\"M0 0h24v24H0V0z\" fill=\"none\"/>\n",
              "    <path d=\"M18.56 5.44l.94 2.06.94-2.06 2.06-.94-2.06-.94-.94-2.06-.94 2.06-2.06.94zm-11 1L8.5 8.5l.94-2.06 2.06-.94-2.06-.94L8.5 2.5l-.94 2.06-2.06.94zm10 10l.94 2.06.94-2.06 2.06-.94-2.06-.94-.94-2.06-.94 2.06-2.06.94z\"/><path d=\"M17.41 7.96l-1.37-1.37c-.4-.4-.92-.59-1.43-.59-.52 0-1.04.2-1.43.59L10.3 9.45l-7.72 7.72c-.78.78-.78 2.05 0 2.83L4 21.41c.39.39.9.59 1.41.59.51 0 1.02-.2 1.41-.59l7.78-7.78 2.81-2.81c.8-.78.8-2.07 0-2.86zM5.41 20L4 18.59l7.72-7.72 1.47 1.35L5.41 20z\"/>\n",
              "  </svg>\n",
              "      </button>\n",
              "      \n",
              "  <style>\n",
              "    .colab-df-container {\n",
              "      display:flex;\n",
              "      flex-wrap:wrap;\n",
              "      gap: 12px;\n",
              "    }\n",
              "\n",
              "    .colab-df-convert {\n",
              "      background-color: #E8F0FE;\n",
              "      border: none;\n",
              "      border-radius: 50%;\n",
              "      cursor: pointer;\n",
              "      display: none;\n",
              "      fill: #1967D2;\n",
              "      height: 32px;\n",
              "      padding: 0 0 0 0;\n",
              "      width: 32px;\n",
              "    }\n",
              "\n",
              "    .colab-df-convert:hover {\n",
              "      background-color: #E2EBFA;\n",
              "      box-shadow: 0px 1px 2px rgba(60, 64, 67, 0.3), 0px 1px 3px 1px rgba(60, 64, 67, 0.15);\n",
              "      fill: #174EA6;\n",
              "    }\n",
              "\n",
              "    [theme=dark] .colab-df-convert {\n",
              "      background-color: #3B4455;\n",
              "      fill: #D2E3FC;\n",
              "    }\n",
              "\n",
              "    [theme=dark] .colab-df-convert:hover {\n",
              "      background-color: #434B5C;\n",
              "      box-shadow: 0px 1px 3px 1px rgba(0, 0, 0, 0.15);\n",
              "      filter: drop-shadow(0px 1px 2px rgba(0, 0, 0, 0.3));\n",
              "      fill: #FFFFFF;\n",
              "    }\n",
              "  </style>\n",
              "\n",
              "      <script>\n",
              "        const buttonEl =\n",
              "          document.querySelector('#df-0b3f7445-fae0-40bd-906b-2a9b30b4a3c3 button.colab-df-convert');\n",
              "        buttonEl.style.display =\n",
              "          google.colab.kernel.accessAllowed ? 'block' : 'none';\n",
              "\n",
              "        async function convertToInteractive(key) {\n",
              "          const element = document.querySelector('#df-0b3f7445-fae0-40bd-906b-2a9b30b4a3c3');\n",
              "          const dataTable =\n",
              "            await google.colab.kernel.invokeFunction('convertToInteractive',\n",
              "                                                     [key], {});\n",
              "          if (!dataTable) return;\n",
              "\n",
              "          const docLinkHtml = 'Like what you see? Visit the ' +\n",
              "            '<a target=\"_blank\" href=https://colab.research.google.com/notebooks/data_table.ipynb>data table notebook</a>'\n",
              "            + ' to learn more about interactive tables.';\n",
              "          element.innerHTML = '';\n",
              "          dataTable['output_type'] = 'display_data';\n",
              "          await google.colab.output.renderOutput(dataTable, element);\n",
              "          const docLink = document.createElement('div');\n",
              "          docLink.innerHTML = docLinkHtml;\n",
              "          element.appendChild(docLink);\n",
              "        }\n",
              "      </script>\n",
              "    </div>\n",
              "  </div>\n",
              "  "
            ]
          },
          "metadata": {},
          "execution_count": 19
        }
      ]
    },
    {
      "cell_type": "code",
      "source": [
        "x=np.array(extracted_features_df[\"features\"].tolist())\n",
        "y=np.array(extracted_features_df[\"class\"].tolist())"
      ],
      "metadata": {
        "id": "kU6hPKCmu2YX"
      },
      "execution_count": null,
      "outputs": []
    },
    {
      "cell_type": "code",
      "source": [
        "x.shape"
      ],
      "metadata": {
        "colab": {
          "base_uri": "https://localhost:8080/"
        },
        "id": "9s6srWUeu6YT",
        "outputId": "f8b1a4d8-c1ba-41a8-d08e-271cef6a1093"
      },
      "execution_count": null,
      "outputs": [
        {
          "output_type": "execute_result",
          "data": {
            "text/plain": [
              "(8732, 40)"
            ]
          },
          "metadata": {},
          "execution_count": 21
        }
      ]
    },
    {
      "cell_type": "code",
      "source": [
        "y.shape "
      ],
      "metadata": {
        "colab": {
          "base_uri": "https://localhost:8080/"
        },
        "id": "tvSW8dPru8gR",
        "outputId": "80d7101e-4298-481c-82c6-786f6cc98b88"
      },
      "execution_count": null,
      "outputs": [
        {
          "output_type": "execute_result",
          "data": {
            "text/plain": [
              "(8732,)"
            ]
          },
          "metadata": {},
          "execution_count": 22
        }
      ]
    },
    {
      "cell_type": "code",
      "source": [
        "labelencoder=LabelEncoder()\n",
        "y=to_categorical(labelencoder.fit_transform(y))"
      ],
      "metadata": {
        "id": "joFk6hnvu-zV"
      },
      "execution_count": null,
      "outputs": []
    },
    {
      "cell_type": "code",
      "source": [
        " y"
      ],
      "metadata": {
        "colab": {
          "base_uri": "https://localhost:8080/"
        },
        "id": "viUOwVNhvCcN",
        "outputId": "d80c532d-a5c6-48bc-c345-762a31f8a2ce"
      },
      "execution_count": null,
      "outputs": [
        {
          "output_type": "execute_result",
          "data": {
            "text/plain": [
              "array([[0., 0., 0., ..., 0., 0., 0.],\n",
              "       [0., 0., 1., ..., 0., 0., 0.],\n",
              "       [0., 0., 1., ..., 0., 0., 0.],\n",
              "       ...,\n",
              "       [0., 1., 0., ..., 0., 0., 0.],\n",
              "       [0., 1., 0., ..., 0., 0., 0.],\n",
              "       [0., 1., 0., ..., 0., 0., 0.]], dtype=float32)"
            ]
          },
          "metadata": {},
          "execution_count": 24
        }
      ]
    },
    {
      "cell_type": "code",
      "source": [
        "xtrain,xtest,ytrain,ytest=train_test_split(x,y,test_size=0.2,random_state=0)"
      ],
      "metadata": {
        "id": "UQxyXTfTvGRa"
      },
      "execution_count": null,
      "outputs": []
    },
    {
      "cell_type": "code",
      "source": [
        "xtrain"
      ],
      "metadata": {
        "colab": {
          "base_uri": "https://localhost:8080/"
        },
        "id": "SRa4DYUmvJcM",
        "outputId": "fe687413-0c37-4391-c704-61a6c52c55f8"
      },
      "execution_count": null,
      "outputs": [
        {
          "output_type": "execute_result",
          "data": {
            "text/plain": [
              "array([[-1.3082390e+02,  1.1256225e+02, -2.2600878e+01, ...,\n",
              "         3.2528090e+00, -1.3692100e+00,  2.7386472e+00],\n",
              "       [-1.3446434e+01,  9.1048195e+01, -7.8661475e+00, ...,\n",
              "        -3.2665925e+00, -5.2884049e+00, -1.5532947e+00],\n",
              "       [-4.9575279e+01,  2.3543632e-01, -2.0504959e+01, ...,\n",
              "         2.8775635e+00, -1.5828822e+00,  3.5109408e+00],\n",
              "       ...,\n",
              "       [-4.2677444e+02,  9.2583252e+01,  3.3174915e+00, ...,\n",
              "         7.9330575e-01,  7.1890563e-01,  7.1397936e-01],\n",
              "       [-1.4541722e+02,  1.3619025e+02, -3.3450352e+01, ...,\n",
              "         1.4591718e+00, -1.9928970e+00, -8.9318532e-01],\n",
              "       [-4.2099823e+02,  2.1074756e+02,  3.5814040e+00, ...,\n",
              "        -5.4054899e+00, -3.3959770e+00, -1.5590971e+00]], dtype=float32)"
            ]
          },
          "metadata": {},
          "execution_count": 26
        }
      ]
    },
    {
      "cell_type": "code",
      "source": [
        "num_labels=10"
      ],
      "metadata": {
        "id": "aX2g27QkvLne"
      },
      "execution_count": null,
      "outputs": []
    },
    {
      "cell_type": "code",
      "source": [
        "model=Sequential()\n",
        "model.add(Dense(125,input_shape=(40,)))\n",
        "model.add(Activation(\"relu\"))\n",
        "model.add(Dropout(0.5))\n",
        "#\n",
        "model.add(Dense(250))\n",
        "model.add(Activation(\"relu\"))\n",
        "model.add(Dropout(0.5))\n",
        "#\n",
        "model.add(Dense(125))\n",
        "model.add(Activation(\"relu\"))\n",
        "model.add(Dropout(0.5))\n",
        "#\n",
        "model.add(Dense(num_labels))\n",
        "model.add(Activation(\"softmax\"))"
      ],
      "metadata": {
        "id": "wX7jIScgvOZq"
      },
      "execution_count": null,
      "outputs": []
    },
    {
      "cell_type": "code",
      "source": [
        "model.summary()"
      ],
      "metadata": {
        "colab": {
          "base_uri": "https://localhost:8080/"
        },
        "id": "crPrl4eMvnR7",
        "outputId": "db3fe293-8f6b-4d80-bb70-bd59571e6a66"
      },
      "execution_count": null,
      "outputs": [
        {
          "output_type": "stream",
          "name": "stdout",
          "text": [
            "Model: \"sequential\"\n",
            "_________________________________________________________________\n",
            " Layer (type)                Output Shape              Param #   \n",
            "=================================================================\n",
            " dense (Dense)               (None, 125)               5125      \n",
            "                                                                 \n",
            " activation (Activation)     (None, 125)               0         \n",
            "                                                                 \n",
            " dropout (Dropout)           (None, 125)               0         \n",
            "                                                                 \n",
            " dense_1 (Dense)             (None, 250)               31500     \n",
            "                                                                 \n",
            " activation_1 (Activation)   (None, 250)               0         \n",
            "                                                                 \n",
            " dropout_1 (Dropout)         (None, 250)               0         \n",
            "                                                                 \n",
            " dense_2 (Dense)             (None, 125)               31375     \n",
            "                                                                 \n",
            " activation_2 (Activation)   (None, 125)               0         \n",
            "                                                                 \n",
            " dropout_2 (Dropout)         (None, 125)               0         \n",
            "                                                                 \n",
            " dense_3 (Dense)             (None, 10)                1260      \n",
            "                                                                 \n",
            " activation_3 (Activation)   (None, 10)                0         \n",
            "                                                                 \n",
            "=================================================================\n",
            "Total params: 69,260\n",
            "Trainable params: 69,260\n",
            "Non-trainable params: 0\n",
            "_________________________________________________________________\n"
          ]
        }
      ]
    },
    {
      "cell_type": "code",
      "source": [
        "model.compile(loss=\"categorical_crossentropy\",metrics=[\"accuracy\"],optimizer=\"adam\")"
      ],
      "metadata": {
        "id": "vazyyWbUvqvf"
      },
      "execution_count": null,
      "outputs": []
    },
    {
      "cell_type": "code",
      "source": [
        "epochscount=300\n",
        "num_batch_size=32"
      ],
      "metadata": {
        "id": "Tbla66gYvtgR"
      },
      "execution_count": null,
      "outputs": []
    },
    {
      "cell_type": "code",
      "source": [
        "model.fit(xtrain,ytrain,batch_size=num_batch_size,epochs=epochscount,validation_data=(xtest,ytest),verbose=1) "
      ],
      "metadata": {
        "colab": {
          "base_uri": "https://localhost:8080/"
        },
        "id": "mhQj-2eTv0Wp",
        "outputId": "4a78d7de-fee8-4dc8-8eb6-bf7eb88ee4de"
      },
      "execution_count": null,
      "outputs": [
        {
          "output_type": "stream",
          "name": "stdout",
          "text": [
            "Epoch 1/300\n",
            "219/219 [==============================] - 2s 5ms/step - loss: 9.1942 - accuracy: 0.1261 - val_loss: 2.2749 - val_accuracy: 0.1288\n",
            "Epoch 2/300\n",
            "219/219 [==============================] - 1s 4ms/step - loss: 2.4599 - accuracy: 0.1287 - val_loss: 2.2435 - val_accuracy: 0.1317\n",
            "Epoch 3/300\n",
            "219/219 [==============================] - 1s 3ms/step - loss: 2.2778 - accuracy: 0.1596 - val_loss: 2.1706 - val_accuracy: 0.1826\n",
            "Epoch 4/300\n",
            "219/219 [==============================] - 1s 4ms/step - loss: 2.2169 - accuracy: 0.1797 - val_loss: 2.1152 - val_accuracy: 0.2038\n",
            "Epoch 5/300\n",
            "219/219 [==============================] - 1s 4ms/step - loss: 2.1494 - accuracy: 0.1931 - val_loss: 2.0423 - val_accuracy: 0.2925\n",
            "Epoch 6/300\n",
            "219/219 [==============================] - 1s 4ms/step - loss: 2.0827 - accuracy: 0.2225 - val_loss: 1.9374 - val_accuracy: 0.2839\n",
            "Epoch 7/300\n",
            "219/219 [==============================] - 1s 3ms/step - loss: 2.0251 - accuracy: 0.2431 - val_loss: 1.8826 - val_accuracy: 0.3062\n",
            "Epoch 8/300\n",
            "219/219 [==============================] - 1s 4ms/step - loss: 1.9843 - accuracy: 0.2598 - val_loss: 1.8559 - val_accuracy: 0.3297\n",
            "Epoch 9/300\n",
            "219/219 [==============================] - 1s 3ms/step - loss: 1.9383 - accuracy: 0.2823 - val_loss: 1.8040 - val_accuracy: 0.3326\n",
            "Epoch 10/300\n",
            "219/219 [==============================] - 1s 4ms/step - loss: 1.8923 - accuracy: 0.2994 - val_loss: 1.7127 - val_accuracy: 0.3698\n",
            "Epoch 11/300\n",
            "219/219 [==============================] - 1s 3ms/step - loss: 1.8254 - accuracy: 0.3313 - val_loss: 1.6424 - val_accuracy: 0.4207\n",
            "Epoch 12/300\n",
            "219/219 [==============================] - 1s 4ms/step - loss: 1.7815 - accuracy: 0.3499 - val_loss: 1.5732 - val_accuracy: 0.4390\n",
            "Epoch 13/300\n",
            "219/219 [==============================] - 1s 3ms/step - loss: 1.7139 - accuracy: 0.3739 - val_loss: 1.5350 - val_accuracy: 0.4906\n",
            "Epoch 14/300\n",
            "219/219 [==============================] - 1s 4ms/step - loss: 1.6630 - accuracy: 0.3946 - val_loss: 1.4884 - val_accuracy: 0.4991\n",
            "Epoch 15/300\n",
            "219/219 [==============================] - 1s 3ms/step - loss: 1.6446 - accuracy: 0.4150 - val_loss: 1.4594 - val_accuracy: 0.5140\n",
            "Epoch 16/300\n",
            "219/219 [==============================] - 1s 3ms/step - loss: 1.6035 - accuracy: 0.4278 - val_loss: 1.3936 - val_accuracy: 0.5197\n",
            "Epoch 17/300\n",
            "219/219 [==============================] - 1s 3ms/step - loss: 1.5675 - accuracy: 0.4478 - val_loss: 1.3999 - val_accuracy: 0.5175\n",
            "Epoch 18/300\n",
            "219/219 [==============================] - 1s 3ms/step - loss: 1.5110 - accuracy: 0.4676 - val_loss: 1.3248 - val_accuracy: 0.5678\n",
            "Epoch 19/300\n",
            "219/219 [==============================] - 1s 4ms/step - loss: 1.4842 - accuracy: 0.4760 - val_loss: 1.3035 - val_accuracy: 0.5690\n",
            "Epoch 20/300\n",
            "219/219 [==============================] - 1s 4ms/step - loss: 1.4672 - accuracy: 0.4860 - val_loss: 1.2258 - val_accuracy: 0.6199\n",
            "Epoch 21/300\n",
            "219/219 [==============================] - 1s 3ms/step - loss: 1.4205 - accuracy: 0.5089 - val_loss: 1.2428 - val_accuracy: 0.5942\n",
            "Epoch 22/300\n",
            "219/219 [==============================] - 1s 4ms/step - loss: 1.3963 - accuracy: 0.5194 - val_loss: 1.2179 - val_accuracy: 0.5930\n",
            "Epoch 23/300\n",
            "219/219 [==============================] - 1s 4ms/step - loss: 1.3803 - accuracy: 0.5205 - val_loss: 1.1805 - val_accuracy: 0.6171\n",
            "Epoch 24/300\n",
            "219/219 [==============================] - 1s 4ms/step - loss: 1.3573 - accuracy: 0.5329 - val_loss: 1.1499 - val_accuracy: 0.6211\n",
            "Epoch 25/300\n",
            "219/219 [==============================] - 1s 4ms/step - loss: 1.3250 - accuracy: 0.5499 - val_loss: 1.1057 - val_accuracy: 0.6394\n",
            "Epoch 26/300\n",
            "219/219 [==============================] - 1s 3ms/step - loss: 1.3101 - accuracy: 0.5545 - val_loss: 1.0928 - val_accuracy: 0.6428\n",
            "Epoch 27/300\n",
            "219/219 [==============================] - 1s 4ms/step - loss: 1.2799 - accuracy: 0.5646 - val_loss: 1.0742 - val_accuracy: 0.6594\n",
            "Epoch 28/300\n",
            "219/219 [==============================] - 1s 4ms/step - loss: 1.2616 - accuracy: 0.5770 - val_loss: 1.0491 - val_accuracy: 0.6623\n",
            "Epoch 29/300\n",
            "219/219 [==============================] - 1s 4ms/step - loss: 1.2373 - accuracy: 0.5805 - val_loss: 1.0046 - val_accuracy: 0.6772\n",
            "Epoch 30/300\n",
            "219/219 [==============================] - 1s 3ms/step - loss: 1.2109 - accuracy: 0.5841 - val_loss: 0.9976 - val_accuracy: 0.6783\n",
            "Epoch 31/300\n",
            "219/219 [==============================] - 1s 3ms/step - loss: 1.2197 - accuracy: 0.5880 - val_loss: 1.0001 - val_accuracy: 0.6823\n",
            "Epoch 32/300\n",
            "219/219 [==============================] - 1s 3ms/step - loss: 1.2106 - accuracy: 0.5911 - val_loss: 1.0286 - val_accuracy: 0.6737\n",
            "Epoch 33/300\n",
            "219/219 [==============================] - 1s 3ms/step - loss: 1.1873 - accuracy: 0.6014 - val_loss: 0.9632 - val_accuracy: 0.6949\n",
            "Epoch 34/300\n",
            "219/219 [==============================] - 1s 4ms/step - loss: 1.1681 - accuracy: 0.6024 - val_loss: 0.9746 - val_accuracy: 0.6823\n",
            "Epoch 35/300\n",
            "219/219 [==============================] - 1s 3ms/step - loss: 1.1840 - accuracy: 0.6031 - val_loss: 0.9784 - val_accuracy: 0.6840\n",
            "Epoch 36/300\n",
            "219/219 [==============================] - 1s 3ms/step - loss: 1.1825 - accuracy: 0.6092 - val_loss: 0.9825 - val_accuracy: 0.6829\n",
            "Epoch 37/300\n",
            "219/219 [==============================] - 1s 4ms/step - loss: 1.1533 - accuracy: 0.6103 - val_loss: 0.9587 - val_accuracy: 0.6926\n",
            "Epoch 38/300\n",
            "219/219 [==============================] - 1s 3ms/step - loss: 1.1419 - accuracy: 0.6223 - val_loss: 0.9776 - val_accuracy: 0.6863\n",
            "Epoch 39/300\n",
            "219/219 [==============================] - 1s 4ms/step - loss: 1.1242 - accuracy: 0.6218 - val_loss: 0.9302 - val_accuracy: 0.7018\n",
            "Epoch 40/300\n",
            "219/219 [==============================] - 1s 4ms/step - loss: 1.1289 - accuracy: 0.6235 - val_loss: 0.9320 - val_accuracy: 0.7092\n",
            "Epoch 41/300\n",
            "219/219 [==============================] - 1s 3ms/step - loss: 1.1281 - accuracy: 0.6222 - val_loss: 0.9358 - val_accuracy: 0.7018\n",
            "Epoch 42/300\n",
            "219/219 [==============================] - 1s 3ms/step - loss: 1.0835 - accuracy: 0.6412 - val_loss: 0.9258 - val_accuracy: 0.6972\n",
            "Epoch 43/300\n",
            "219/219 [==============================] - 1s 4ms/step - loss: 1.1020 - accuracy: 0.6329 - val_loss: 0.9407 - val_accuracy: 0.7023\n",
            "Epoch 44/300\n",
            "219/219 [==============================] - 1s 4ms/step - loss: 1.0923 - accuracy: 0.6273 - val_loss: 0.8998 - val_accuracy: 0.7155\n",
            "Epoch 45/300\n",
            "219/219 [==============================] - 1s 3ms/step - loss: 1.0726 - accuracy: 0.6365 - val_loss: 0.8839 - val_accuracy: 0.7201\n",
            "Epoch 46/300\n",
            "219/219 [==============================] - 1s 3ms/step - loss: 1.0898 - accuracy: 0.6428 - val_loss: 0.9036 - val_accuracy: 0.7086\n",
            "Epoch 47/300\n",
            "219/219 [==============================] - 1s 4ms/step - loss: 1.0530 - accuracy: 0.6444 - val_loss: 0.8745 - val_accuracy: 0.7149\n",
            "Epoch 48/300\n",
            "219/219 [==============================] - 1s 4ms/step - loss: 1.0704 - accuracy: 0.6397 - val_loss: 0.8688 - val_accuracy: 0.7109\n",
            "Epoch 49/300\n",
            "219/219 [==============================] - 1s 4ms/step - loss: 1.0470 - accuracy: 0.6447 - val_loss: 0.8420 - val_accuracy: 0.7247\n",
            "Epoch 50/300\n",
            "219/219 [==============================] - 1s 4ms/step - loss: 1.0592 - accuracy: 0.6491 - val_loss: 0.8253 - val_accuracy: 0.7373\n",
            "Epoch 51/300\n",
            "219/219 [==============================] - 1s 3ms/step - loss: 1.0691 - accuracy: 0.6465 - val_loss: 0.8743 - val_accuracy: 0.7252\n",
            "Epoch 52/300\n",
            "219/219 [==============================] - 1s 4ms/step - loss: 1.0249 - accuracy: 0.6554 - val_loss: 0.8483 - val_accuracy: 0.7092\n",
            "Epoch 53/300\n",
            "219/219 [==============================] - 1s 4ms/step - loss: 1.0272 - accuracy: 0.6601 - val_loss: 0.8648 - val_accuracy: 0.7224\n",
            "Epoch 54/300\n",
            "219/219 [==============================] - 1s 4ms/step - loss: 1.0104 - accuracy: 0.6550 - val_loss: 0.8301 - val_accuracy: 0.7281\n",
            "Epoch 55/300\n",
            "219/219 [==============================] - 1s 3ms/step - loss: 0.9999 - accuracy: 0.6621 - val_loss: 0.8212 - val_accuracy: 0.7367\n",
            "Epoch 56/300\n",
            "219/219 [==============================] - 1s 4ms/step - loss: 1.0431 - accuracy: 0.6537 - val_loss: 0.8305 - val_accuracy: 0.7298\n",
            "Epoch 57/300\n",
            "219/219 [==============================] - 1s 6ms/step - loss: 1.0012 - accuracy: 0.6659 - val_loss: 0.8214 - val_accuracy: 0.7298\n",
            "Epoch 58/300\n",
            "219/219 [==============================] - 1s 6ms/step - loss: 1.0196 - accuracy: 0.6627 - val_loss: 0.8517 - val_accuracy: 0.7350\n",
            "Epoch 59/300\n",
            "219/219 [==============================] - 1s 6ms/step - loss: 1.0022 - accuracy: 0.6736 - val_loss: 0.8166 - val_accuracy: 0.7293\n",
            "Epoch 60/300\n",
            "219/219 [==============================] - 1s 5ms/step - loss: 1.0057 - accuracy: 0.6621 - val_loss: 0.8445 - val_accuracy: 0.7287\n",
            "Epoch 61/300\n",
            "219/219 [==============================] - 1s 4ms/step - loss: 0.9852 - accuracy: 0.6707 - val_loss: 0.7811 - val_accuracy: 0.7562\n",
            "Epoch 62/300\n",
            "219/219 [==============================] - 1s 3ms/step - loss: 0.9842 - accuracy: 0.6709 - val_loss: 0.8224 - val_accuracy: 0.7298\n",
            "Epoch 63/300\n",
            "219/219 [==============================] - 1s 4ms/step - loss: 0.9672 - accuracy: 0.6786 - val_loss: 0.8097 - val_accuracy: 0.7355\n",
            "Epoch 64/300\n",
            "219/219 [==============================] - 1s 3ms/step - loss: 0.9794 - accuracy: 0.6742 - val_loss: 0.8076 - val_accuracy: 0.7493\n",
            "Epoch 65/300\n",
            "219/219 [==============================] - 1s 4ms/step - loss: 0.9887 - accuracy: 0.6684 - val_loss: 0.8185 - val_accuracy: 0.7378\n",
            "Epoch 66/300\n",
            "219/219 [==============================] - 1s 3ms/step - loss: 0.9780 - accuracy: 0.6749 - val_loss: 0.8144 - val_accuracy: 0.7396\n",
            "Epoch 67/300\n",
            "219/219 [==============================] - 1s 3ms/step - loss: 0.9698 - accuracy: 0.6762 - val_loss: 0.7999 - val_accuracy: 0.7441\n",
            "Epoch 68/300\n",
            "219/219 [==============================] - 1s 3ms/step - loss: 0.9729 - accuracy: 0.6750 - val_loss: 0.7744 - val_accuracy: 0.7567\n",
            "Epoch 69/300\n",
            "219/219 [==============================] - 1s 4ms/step - loss: 0.9294 - accuracy: 0.6912 - val_loss: 0.7763 - val_accuracy: 0.7527\n",
            "Epoch 70/300\n",
            "219/219 [==============================] - 1s 3ms/step - loss: 0.9633 - accuracy: 0.6753 - val_loss: 0.7662 - val_accuracy: 0.7653\n",
            "Epoch 71/300\n",
            "219/219 [==============================] - 1s 3ms/step - loss: 0.9535 - accuracy: 0.6817 - val_loss: 0.7657 - val_accuracy: 0.7470\n",
            "Epoch 72/300\n",
            "219/219 [==============================] - 1s 4ms/step - loss: 0.9482 - accuracy: 0.6879 - val_loss: 0.7912 - val_accuracy: 0.7361\n",
            "Epoch 73/300\n",
            "219/219 [==============================] - 1s 3ms/step - loss: 0.9492 - accuracy: 0.6858 - val_loss: 0.7729 - val_accuracy: 0.7556\n",
            "Epoch 74/300\n",
            "219/219 [==============================] - 1s 3ms/step - loss: 0.9531 - accuracy: 0.6829 - val_loss: 0.7663 - val_accuracy: 0.7567\n",
            "Epoch 75/300\n",
            "219/219 [==============================] - 1s 3ms/step - loss: 0.9505 - accuracy: 0.6876 - val_loss: 0.7970 - val_accuracy: 0.7516\n",
            "Epoch 76/300\n",
            "219/219 [==============================] - 1s 4ms/step - loss: 0.9448 - accuracy: 0.6876 - val_loss: 0.7815 - val_accuracy: 0.7579\n",
            "Epoch 77/300\n",
            "219/219 [==============================] - 1s 4ms/step - loss: 0.9498 - accuracy: 0.6931 - val_loss: 0.7504 - val_accuracy: 0.7647\n",
            "Epoch 78/300\n",
            "219/219 [==============================] - 1s 4ms/step - loss: 0.9350 - accuracy: 0.6905 - val_loss: 0.7742 - val_accuracy: 0.7539\n",
            "Epoch 79/300\n",
            "219/219 [==============================] - 1s 4ms/step - loss: 0.9000 - accuracy: 0.6999 - val_loss: 0.7475 - val_accuracy: 0.7602\n",
            "Epoch 80/300\n",
            "219/219 [==============================] - 1s 3ms/step - loss: 0.9302 - accuracy: 0.6888 - val_loss: 0.7774 - val_accuracy: 0.7476\n",
            "Epoch 81/300\n",
            "219/219 [==============================] - 1s 4ms/step - loss: 0.9331 - accuracy: 0.6853 - val_loss: 0.7683 - val_accuracy: 0.7607\n",
            "Epoch 82/300\n",
            "219/219 [==============================] - 1s 3ms/step - loss: 0.9272 - accuracy: 0.6971 - val_loss: 0.7615 - val_accuracy: 0.7539\n",
            "Epoch 83/300\n",
            "219/219 [==============================] - 1s 4ms/step - loss: 0.9023 - accuracy: 0.7026 - val_loss: 0.7393 - val_accuracy: 0.7716\n",
            "Epoch 84/300\n",
            "219/219 [==============================] - 1s 3ms/step - loss: 0.9158 - accuracy: 0.6971 - val_loss: 0.7514 - val_accuracy: 0.7602\n",
            "Epoch 85/300\n",
            "219/219 [==============================] - 1s 4ms/step - loss: 0.9138 - accuracy: 0.6965 - val_loss: 0.7471 - val_accuracy: 0.7636\n",
            "Epoch 86/300\n",
            "219/219 [==============================] - 1s 3ms/step - loss: 0.9185 - accuracy: 0.6915 - val_loss: 0.7354 - val_accuracy: 0.7705\n",
            "Epoch 87/300\n",
            "219/219 [==============================] - 1s 4ms/step - loss: 0.9098 - accuracy: 0.6958 - val_loss: 0.7270 - val_accuracy: 0.7762\n",
            "Epoch 88/300\n",
            "219/219 [==============================] - 1s 4ms/step - loss: 0.9109 - accuracy: 0.6985 - val_loss: 0.7260 - val_accuracy: 0.7659\n",
            "Epoch 89/300\n",
            "219/219 [==============================] - 1s 4ms/step - loss: 0.9192 - accuracy: 0.6928 - val_loss: 0.7307 - val_accuracy: 0.7716\n",
            "Epoch 90/300\n",
            "219/219 [==============================] - 1s 4ms/step - loss: 0.8992 - accuracy: 0.7005 - val_loss: 0.7236 - val_accuracy: 0.7573\n",
            "Epoch 91/300\n",
            "219/219 [==============================] - 1s 4ms/step - loss: 0.9001 - accuracy: 0.6951 - val_loss: 0.7467 - val_accuracy: 0.7653\n",
            "Epoch 92/300\n",
            "219/219 [==============================] - 1s 4ms/step - loss: 0.8810 - accuracy: 0.7114 - val_loss: 0.7135 - val_accuracy: 0.7819\n",
            "Epoch 93/300\n",
            "219/219 [==============================] - 1s 3ms/step - loss: 0.8768 - accuracy: 0.7122 - val_loss: 0.7212 - val_accuracy: 0.7665\n",
            "Epoch 94/300\n",
            "219/219 [==============================] - 1s 4ms/step - loss: 0.8787 - accuracy: 0.6981 - val_loss: 0.7239 - val_accuracy: 0.7710\n",
            "Epoch 95/300\n",
            "219/219 [==============================] - 1s 4ms/step - loss: 0.8758 - accuracy: 0.7074 - val_loss: 0.7042 - val_accuracy: 0.7745\n",
            "Epoch 96/300\n",
            "219/219 [==============================] - 1s 3ms/step - loss: 0.8929 - accuracy: 0.7001 - val_loss: 0.7048 - val_accuracy: 0.7728\n",
            "Epoch 97/300\n",
            "219/219 [==============================] - 1s 3ms/step - loss: 0.9039 - accuracy: 0.6986 - val_loss: 0.7378 - val_accuracy: 0.7699\n",
            "Epoch 98/300\n",
            "219/219 [==============================] - 1s 3ms/step - loss: 0.8918 - accuracy: 0.7061 - val_loss: 0.7225 - val_accuracy: 0.7619\n",
            "Epoch 99/300\n",
            "219/219 [==============================] - 1s 3ms/step - loss: 0.8777 - accuracy: 0.7105 - val_loss: 0.7059 - val_accuracy: 0.7825\n",
            "Epoch 100/300\n",
            "219/219 [==============================] - 1s 4ms/step - loss: 0.8816 - accuracy: 0.7015 - val_loss: 0.7325 - val_accuracy: 0.7705\n",
            "Epoch 101/300\n",
            "219/219 [==============================] - 1s 3ms/step - loss: 0.8703 - accuracy: 0.7064 - val_loss: 0.7285 - val_accuracy: 0.7687\n",
            "Epoch 102/300\n",
            "219/219 [==============================] - 1s 3ms/step - loss: 0.8770 - accuracy: 0.7078 - val_loss: 0.7112 - val_accuracy: 0.7722\n",
            "Epoch 103/300\n",
            "219/219 [==============================] - 1s 4ms/step - loss: 0.8981 - accuracy: 0.7054 - val_loss: 0.7132 - val_accuracy: 0.7670\n",
            "Epoch 104/300\n",
            "219/219 [==============================] - 1s 4ms/step - loss: 0.8764 - accuracy: 0.7071 - val_loss: 0.7056 - val_accuracy: 0.7710\n",
            "Epoch 105/300\n",
            "219/219 [==============================] - 1s 4ms/step - loss: 0.8771 - accuracy: 0.7095 - val_loss: 0.6917 - val_accuracy: 0.7871\n",
            "Epoch 106/300\n",
            "219/219 [==============================] - 1s 4ms/step - loss: 0.8748 - accuracy: 0.7085 - val_loss: 0.7009 - val_accuracy: 0.7779\n",
            "Epoch 107/300\n",
            "219/219 [==============================] - 1s 4ms/step - loss: 0.8733 - accuracy: 0.7088 - val_loss: 0.7133 - val_accuracy: 0.7722\n",
            "Epoch 108/300\n",
            "219/219 [==============================] - 1s 4ms/step - loss: 0.8869 - accuracy: 0.7079 - val_loss: 0.7239 - val_accuracy: 0.7722\n",
            "Epoch 109/300\n",
            "219/219 [==============================] - 1s 4ms/step - loss: 0.8525 - accuracy: 0.7128 - val_loss: 0.6982 - val_accuracy: 0.7750\n",
            "Epoch 110/300\n",
            "219/219 [==============================] - 1s 4ms/step - loss: 0.8491 - accuracy: 0.7147 - val_loss: 0.7237 - val_accuracy: 0.7665\n",
            "Epoch 111/300\n",
            "219/219 [==============================] - 1s 3ms/step - loss: 0.8713 - accuracy: 0.7138 - val_loss: 0.6937 - val_accuracy: 0.7819\n",
            "Epoch 112/300\n",
            "219/219 [==============================] - 1s 4ms/step - loss: 0.8770 - accuracy: 0.7124 - val_loss: 0.7105 - val_accuracy: 0.7785\n",
            "Epoch 113/300\n",
            "219/219 [==============================] - 1s 4ms/step - loss: 0.8458 - accuracy: 0.7181 - val_loss: 0.7066 - val_accuracy: 0.7716\n",
            "Epoch 114/300\n",
            "219/219 [==============================] - 1s 4ms/step - loss: 0.8870 - accuracy: 0.7167 - val_loss: 0.6989 - val_accuracy: 0.7894\n",
            "Epoch 115/300\n",
            "219/219 [==============================] - 1s 4ms/step - loss: 0.8672 - accuracy: 0.7121 - val_loss: 0.6795 - val_accuracy: 0.7790\n",
            "Epoch 116/300\n",
            "219/219 [==============================] - 1s 4ms/step - loss: 0.8843 - accuracy: 0.7069 - val_loss: 0.6945 - val_accuracy: 0.7808\n",
            "Epoch 117/300\n",
            "219/219 [==============================] - 1s 4ms/step - loss: 0.8387 - accuracy: 0.7237 - val_loss: 0.6909 - val_accuracy: 0.7853\n",
            "Epoch 118/300\n",
            "219/219 [==============================] - 1s 4ms/step - loss: 0.8616 - accuracy: 0.7089 - val_loss: 0.7048 - val_accuracy: 0.7768\n",
            "Epoch 119/300\n",
            "219/219 [==============================] - 1s 3ms/step - loss: 0.8550 - accuracy: 0.7148 - val_loss: 0.6896 - val_accuracy: 0.7813\n",
            "Epoch 120/300\n",
            "219/219 [==============================] - 1s 4ms/step - loss: 0.8560 - accuracy: 0.7144 - val_loss: 0.6775 - val_accuracy: 0.7899\n",
            "Epoch 121/300\n",
            "219/219 [==============================] - 1s 4ms/step - loss: 0.8641 - accuracy: 0.7155 - val_loss: 0.6796 - val_accuracy: 0.7934\n",
            "Epoch 122/300\n",
            "219/219 [==============================] - 1s 4ms/step - loss: 0.8502 - accuracy: 0.7198 - val_loss: 0.6948 - val_accuracy: 0.7831\n",
            "Epoch 123/300\n",
            "219/219 [==============================] - 1s 4ms/step - loss: 0.8419 - accuracy: 0.7236 - val_loss: 0.6816 - val_accuracy: 0.7934\n",
            "Epoch 124/300\n",
            "219/219 [==============================] - 1s 4ms/step - loss: 0.8611 - accuracy: 0.7128 - val_loss: 0.7065 - val_accuracy: 0.7808\n",
            "Epoch 125/300\n",
            "219/219 [==============================] - 1s 4ms/step - loss: 0.8478 - accuracy: 0.7183 - val_loss: 0.6836 - val_accuracy: 0.7819\n",
            "Epoch 126/300\n",
            "219/219 [==============================] - 1s 3ms/step - loss: 0.8358 - accuracy: 0.7243 - val_loss: 0.6797 - val_accuracy: 0.7865\n",
            "Epoch 127/300\n",
            "219/219 [==============================] - 1s 3ms/step - loss: 0.8484 - accuracy: 0.7194 - val_loss: 0.6742 - val_accuracy: 0.7894\n",
            "Epoch 128/300\n",
            "219/219 [==============================] - 1s 4ms/step - loss: 0.8642 - accuracy: 0.7167 - val_loss: 0.6676 - val_accuracy: 0.7899\n",
            "Epoch 129/300\n",
            "219/219 [==============================] - 1s 4ms/step - loss: 0.8556 - accuracy: 0.7168 - val_loss: 0.6679 - val_accuracy: 0.7853\n",
            "Epoch 130/300\n",
            "219/219 [==============================] - 1s 4ms/step - loss: 0.8424 - accuracy: 0.7231 - val_loss: 0.6521 - val_accuracy: 0.8002\n",
            "Epoch 131/300\n",
            "219/219 [==============================] - 1s 4ms/step - loss: 0.8425 - accuracy: 0.7178 - val_loss: 0.6703 - val_accuracy: 0.7882\n",
            "Epoch 132/300\n",
            "219/219 [==============================] - 1s 4ms/step - loss: 0.8362 - accuracy: 0.7195 - val_loss: 0.6599 - val_accuracy: 0.7945\n",
            "Epoch 133/300\n",
            "219/219 [==============================] - 1s 4ms/step - loss: 0.8513 - accuracy: 0.7214 - val_loss: 0.6624 - val_accuracy: 0.7939\n",
            "Epoch 134/300\n",
            "219/219 [==============================] - 1s 4ms/step - loss: 0.8396 - accuracy: 0.7228 - val_loss: 0.6890 - val_accuracy: 0.7934\n",
            "Epoch 135/300\n",
            "219/219 [==============================] - 1s 4ms/step - loss: 0.8312 - accuracy: 0.7238 - val_loss: 0.6515 - val_accuracy: 0.7979\n",
            "Epoch 136/300\n",
            "219/219 [==============================] - 1s 4ms/step - loss: 0.8185 - accuracy: 0.7224 - val_loss: 0.6670 - val_accuracy: 0.7956\n",
            "Epoch 137/300\n",
            "219/219 [==============================] - 1s 4ms/step - loss: 0.8320 - accuracy: 0.7237 - val_loss: 0.6755 - val_accuracy: 0.7808\n",
            "Epoch 138/300\n",
            "219/219 [==============================] - 1s 4ms/step - loss: 0.8331 - accuracy: 0.7217 - val_loss: 0.6755 - val_accuracy: 0.7831\n",
            "Epoch 139/300\n",
            "219/219 [==============================] - 1s 4ms/step - loss: 0.8421 - accuracy: 0.7118 - val_loss: 0.6761 - val_accuracy: 0.7916\n",
            "Epoch 140/300\n",
            "219/219 [==============================] - 1s 3ms/step - loss: 0.8616 - accuracy: 0.7151 - val_loss: 0.6857 - val_accuracy: 0.7802\n",
            "Epoch 141/300\n",
            "219/219 [==============================] - 1s 4ms/step - loss: 0.8282 - accuracy: 0.7237 - val_loss: 0.6495 - val_accuracy: 0.7888\n",
            "Epoch 142/300\n",
            "219/219 [==============================] - 1s 4ms/step - loss: 0.8213 - accuracy: 0.7263 - val_loss: 0.6640 - val_accuracy: 0.7939\n",
            "Epoch 143/300\n",
            "219/219 [==============================] - 1s 4ms/step - loss: 0.8565 - accuracy: 0.7174 - val_loss: 0.6642 - val_accuracy: 0.7997\n",
            "Epoch 144/300\n",
            "219/219 [==============================] - 1s 4ms/step - loss: 0.8336 - accuracy: 0.7258 - val_loss: 0.6737 - val_accuracy: 0.7939\n",
            "Epoch 145/300\n",
            "219/219 [==============================] - 1s 4ms/step - loss: 0.8254 - accuracy: 0.7294 - val_loss: 0.6902 - val_accuracy: 0.7773\n",
            "Epoch 146/300\n",
            "219/219 [==============================] - 1s 4ms/step - loss: 0.8255 - accuracy: 0.7220 - val_loss: 0.6567 - val_accuracy: 0.7939\n",
            "Epoch 147/300\n",
            "219/219 [==============================] - 1s 4ms/step - loss: 0.8211 - accuracy: 0.7230 - val_loss: 0.6606 - val_accuracy: 0.7865\n",
            "Epoch 148/300\n",
            "219/219 [==============================] - 1s 4ms/step - loss: 0.8187 - accuracy: 0.7340 - val_loss: 0.6476 - val_accuracy: 0.7956\n",
            "Epoch 149/300\n",
            "219/219 [==============================] - 1s 4ms/step - loss: 0.8137 - accuracy: 0.7331 - val_loss: 0.6817 - val_accuracy: 0.7968\n",
            "Epoch 150/300\n",
            "219/219 [==============================] - 1s 4ms/step - loss: 0.8191 - accuracy: 0.7270 - val_loss: 0.6834 - val_accuracy: 0.7790\n",
            "Epoch 151/300\n",
            "219/219 [==============================] - 1s 4ms/step - loss: 0.8230 - accuracy: 0.7273 - val_loss: 0.6574 - val_accuracy: 0.7831\n",
            "Epoch 152/300\n",
            "219/219 [==============================] - 1s 4ms/step - loss: 0.8288 - accuracy: 0.7241 - val_loss: 0.6649 - val_accuracy: 0.7819\n",
            "Epoch 153/300\n",
            "219/219 [==============================] - 1s 4ms/step - loss: 0.8339 - accuracy: 0.7243 - val_loss: 0.6399 - val_accuracy: 0.7979\n",
            "Epoch 154/300\n",
            "219/219 [==============================] - 1s 4ms/step - loss: 0.8273 - accuracy: 0.7266 - val_loss: 0.6459 - val_accuracy: 0.8002\n",
            "Epoch 155/300\n",
            "219/219 [==============================] - 1s 4ms/step - loss: 0.8240 - accuracy: 0.7261 - val_loss: 0.6487 - val_accuracy: 0.7945\n",
            "Epoch 156/300\n",
            "219/219 [==============================] - 1s 4ms/step - loss: 0.8196 - accuracy: 0.7319 - val_loss: 0.6486 - val_accuracy: 0.7911\n",
            "Epoch 157/300\n",
            "219/219 [==============================] - 1s 4ms/step - loss: 0.8129 - accuracy: 0.7291 - val_loss: 0.6599 - val_accuracy: 0.7905\n",
            "Epoch 158/300\n",
            "219/219 [==============================] - 1s 3ms/step - loss: 0.8121 - accuracy: 0.7359 - val_loss: 0.6344 - val_accuracy: 0.8037\n",
            "Epoch 159/300\n",
            "219/219 [==============================] - 1s 4ms/step - loss: 0.8194 - accuracy: 0.7260 - val_loss: 0.6542 - val_accuracy: 0.8037\n",
            "Epoch 160/300\n",
            "219/219 [==============================] - 1s 4ms/step - loss: 0.8117 - accuracy: 0.7303 - val_loss: 0.6335 - val_accuracy: 0.8025\n",
            "Epoch 161/300\n",
            "219/219 [==============================] - 1s 4ms/step - loss: 0.8178 - accuracy: 0.7281 - val_loss: 0.6554 - val_accuracy: 0.7911\n",
            "Epoch 162/300\n",
            "219/219 [==============================] - 1s 4ms/step - loss: 0.8254 - accuracy: 0.7286 - val_loss: 0.6487 - val_accuracy: 0.8060\n",
            "Epoch 163/300\n",
            "219/219 [==============================] - 1s 4ms/step - loss: 0.7975 - accuracy: 0.7354 - val_loss: 0.6397 - val_accuracy: 0.8042\n",
            "Epoch 164/300\n",
            "219/219 [==============================] - 1s 4ms/step - loss: 0.8035 - accuracy: 0.7303 - val_loss: 0.6413 - val_accuracy: 0.8025\n",
            "Epoch 165/300\n",
            "219/219 [==============================] - 1s 4ms/step - loss: 0.8238 - accuracy: 0.7278 - val_loss: 0.6519 - val_accuracy: 0.7962\n",
            "Epoch 166/300\n",
            "219/219 [==============================] - 1s 4ms/step - loss: 0.8338 - accuracy: 0.7243 - val_loss: 0.6500 - val_accuracy: 0.7962\n",
            "Epoch 167/300\n",
            "219/219 [==============================] - 1s 4ms/step - loss: 0.8282 - accuracy: 0.7246 - val_loss: 0.6525 - val_accuracy: 0.7876\n",
            "Epoch 168/300\n",
            "219/219 [==============================] - 1s 4ms/step - loss: 0.8054 - accuracy: 0.7364 - val_loss: 0.6323 - val_accuracy: 0.8014\n",
            "Epoch 169/300\n",
            "219/219 [==============================] - 1s 4ms/step - loss: 0.7793 - accuracy: 0.7406 - val_loss: 0.6315 - val_accuracy: 0.7991\n",
            "Epoch 170/300\n",
            "219/219 [==============================] - 1s 4ms/step - loss: 0.8010 - accuracy: 0.7344 - val_loss: 0.6653 - val_accuracy: 0.7991\n",
            "Epoch 171/300\n",
            "219/219 [==============================] - 1s 4ms/step - loss: 0.8104 - accuracy: 0.7243 - val_loss: 0.6491 - val_accuracy: 0.8031\n",
            "Epoch 172/300\n",
            "219/219 [==============================] - 1s 4ms/step - loss: 0.8112 - accuracy: 0.7296 - val_loss: 0.6478 - val_accuracy: 0.7968\n",
            "Epoch 173/300\n",
            "219/219 [==============================] - 1s 4ms/step - loss: 0.8043 - accuracy: 0.7309 - val_loss: 0.6439 - val_accuracy: 0.7928\n",
            "Epoch 174/300\n",
            "219/219 [==============================] - 1s 4ms/step - loss: 0.8259 - accuracy: 0.7241 - val_loss: 0.6581 - val_accuracy: 0.8002\n",
            "Epoch 175/300\n",
            "219/219 [==============================] - 1s 3ms/step - loss: 0.8091 - accuracy: 0.7376 - val_loss: 0.6530 - val_accuracy: 0.7888\n",
            "Epoch 176/300\n",
            "219/219 [==============================] - 1s 4ms/step - loss: 0.7941 - accuracy: 0.7314 - val_loss: 0.6404 - val_accuracy: 0.7956\n",
            "Epoch 177/300\n",
            "219/219 [==============================] - 1s 3ms/step - loss: 0.8051 - accuracy: 0.7356 - val_loss: 0.6681 - val_accuracy: 0.7899\n",
            "Epoch 178/300\n",
            "219/219 [==============================] - 1s 4ms/step - loss: 0.8263 - accuracy: 0.7320 - val_loss: 0.6476 - val_accuracy: 0.8002\n",
            "Epoch 179/300\n",
            "219/219 [==============================] - 1s 4ms/step - loss: 0.8120 - accuracy: 0.7384 - val_loss: 0.6330 - val_accuracy: 0.8019\n",
            "Epoch 180/300\n",
            "219/219 [==============================] - 1s 4ms/step - loss: 0.7860 - accuracy: 0.7407 - val_loss: 0.6228 - val_accuracy: 0.8071\n",
            "Epoch 181/300\n",
            "219/219 [==============================] - 1s 4ms/step - loss: 0.7801 - accuracy: 0.7370 - val_loss: 0.6133 - val_accuracy: 0.7939\n",
            "Epoch 182/300\n",
            "219/219 [==============================] - 1s 4ms/step - loss: 0.8065 - accuracy: 0.7376 - val_loss: 0.6494 - val_accuracy: 0.7899\n",
            "Epoch 183/300\n",
            "219/219 [==============================] - 1s 3ms/step - loss: 0.7882 - accuracy: 0.7414 - val_loss: 0.6468 - val_accuracy: 0.7922\n",
            "Epoch 184/300\n",
            "219/219 [==============================] - 1s 4ms/step - loss: 0.8028 - accuracy: 0.7377 - val_loss: 0.6270 - val_accuracy: 0.8002\n",
            "Epoch 185/300\n",
            "219/219 [==============================] - 1s 4ms/step - loss: 0.8146 - accuracy: 0.7351 - val_loss: 0.6481 - val_accuracy: 0.7939\n",
            "Epoch 186/300\n",
            "219/219 [==============================] - 1s 4ms/step - loss: 0.7918 - accuracy: 0.7366 - val_loss: 0.6374 - val_accuracy: 0.7945\n",
            "Epoch 187/300\n",
            "219/219 [==============================] - 1s 4ms/step - loss: 0.7820 - accuracy: 0.7351 - val_loss: 0.6219 - val_accuracy: 0.7956\n",
            "Epoch 188/300\n",
            "219/219 [==============================] - 1s 3ms/step - loss: 0.7785 - accuracy: 0.7412 - val_loss: 0.6244 - val_accuracy: 0.7928\n",
            "Epoch 189/300\n",
            "219/219 [==============================] - 1s 4ms/step - loss: 0.7836 - accuracy: 0.7460 - val_loss: 0.6371 - val_accuracy: 0.7934\n",
            "Epoch 190/300\n",
            "219/219 [==============================] - 1s 4ms/step - loss: 0.7705 - accuracy: 0.7452 - val_loss: 0.6376 - val_accuracy: 0.7951\n",
            "Epoch 191/300\n",
            "219/219 [==============================] - 1s 4ms/step - loss: 0.8121 - accuracy: 0.7373 - val_loss: 0.6487 - val_accuracy: 0.7962\n",
            "Epoch 192/300\n",
            "219/219 [==============================] - 1s 4ms/step - loss: 0.7930 - accuracy: 0.7367 - val_loss: 0.6246 - val_accuracy: 0.8014\n",
            "Epoch 193/300\n",
            "219/219 [==============================] - 1s 4ms/step - loss: 0.7763 - accuracy: 0.7453 - val_loss: 0.6134 - val_accuracy: 0.8019\n",
            "Epoch 194/300\n",
            "219/219 [==============================] - 1s 4ms/step - loss: 0.7975 - accuracy: 0.7337 - val_loss: 0.6474 - val_accuracy: 0.7871\n",
            "Epoch 195/300\n",
            "219/219 [==============================] - 1s 4ms/step - loss: 0.7812 - accuracy: 0.7447 - val_loss: 0.6314 - val_accuracy: 0.8014\n",
            "Epoch 196/300\n",
            "219/219 [==============================] - 1s 4ms/step - loss: 0.7755 - accuracy: 0.7414 - val_loss: 0.6345 - val_accuracy: 0.7928\n",
            "Epoch 197/300\n",
            "219/219 [==============================] - 1s 4ms/step - loss: 0.7969 - accuracy: 0.7363 - val_loss: 0.6437 - val_accuracy: 0.7951\n",
            "Epoch 198/300\n",
            "219/219 [==============================] - 1s 4ms/step - loss: 0.7666 - accuracy: 0.7456 - val_loss: 0.6312 - val_accuracy: 0.7979\n",
            "Epoch 199/300\n",
            "219/219 [==============================] - 1s 4ms/step - loss: 0.7765 - accuracy: 0.7440 - val_loss: 0.6188 - val_accuracy: 0.8042\n",
            "Epoch 200/300\n",
            "219/219 [==============================] - 1s 4ms/step - loss: 0.7781 - accuracy: 0.7436 - val_loss: 0.6194 - val_accuracy: 0.8088\n",
            "Epoch 201/300\n",
            "219/219 [==============================] - 1s 4ms/step - loss: 0.7718 - accuracy: 0.7443 - val_loss: 0.6096 - val_accuracy: 0.7997\n",
            "Epoch 202/300\n",
            "219/219 [==============================] - 1s 4ms/step - loss: 0.7904 - accuracy: 0.7380 - val_loss: 0.6263 - val_accuracy: 0.7991\n",
            "Epoch 203/300\n",
            "219/219 [==============================] - 1s 4ms/step - loss: 0.7741 - accuracy: 0.7389 - val_loss: 0.6170 - val_accuracy: 0.7985\n",
            "Epoch 204/300\n",
            "219/219 [==============================] - 1s 3ms/step - loss: 0.7938 - accuracy: 0.7361 - val_loss: 0.6288 - val_accuracy: 0.8065\n",
            "Epoch 205/300\n",
            "219/219 [==============================] - 1s 4ms/step - loss: 0.7772 - accuracy: 0.7472 - val_loss: 0.6209 - val_accuracy: 0.8014\n",
            "Epoch 206/300\n",
            "219/219 [==============================] - 1s 4ms/step - loss: 0.7630 - accuracy: 0.7479 - val_loss: 0.6191 - val_accuracy: 0.8088\n",
            "Epoch 207/300\n",
            "219/219 [==============================] - 1s 4ms/step - loss: 0.7758 - accuracy: 0.7516 - val_loss: 0.5929 - val_accuracy: 0.8037\n",
            "Epoch 208/300\n",
            "219/219 [==============================] - 1s 3ms/step - loss: 0.8052 - accuracy: 0.7359 - val_loss: 0.6248 - val_accuracy: 0.7979\n",
            "Epoch 209/300\n",
            "219/219 [==============================] - 1s 4ms/step - loss: 0.7770 - accuracy: 0.7432 - val_loss: 0.6106 - val_accuracy: 0.8128\n",
            "Epoch 210/300\n",
            "219/219 [==============================] - 1s 4ms/step - loss: 0.8013 - accuracy: 0.7369 - val_loss: 0.6378 - val_accuracy: 0.7974\n",
            "Epoch 211/300\n",
            "219/219 [==============================] - 1s 4ms/step - loss: 0.7771 - accuracy: 0.7439 - val_loss: 0.6258 - val_accuracy: 0.7974\n",
            "Epoch 212/300\n",
            "219/219 [==============================] - 1s 4ms/step - loss: 0.7626 - accuracy: 0.7519 - val_loss: 0.6207 - val_accuracy: 0.8071\n",
            "Epoch 213/300\n",
            "219/219 [==============================] - 1s 4ms/step - loss: 0.7909 - accuracy: 0.7380 - val_loss: 0.6342 - val_accuracy: 0.8002\n",
            "Epoch 214/300\n",
            "219/219 [==============================] - 1s 4ms/step - loss: 0.7838 - accuracy: 0.7432 - val_loss: 0.6138 - val_accuracy: 0.7934\n",
            "Epoch 215/300\n",
            "219/219 [==============================] - 1s 4ms/step - loss: 0.7757 - accuracy: 0.7447 - val_loss: 0.6314 - val_accuracy: 0.8008\n",
            "Epoch 216/300\n",
            "219/219 [==============================] - 1s 4ms/step - loss: 0.7655 - accuracy: 0.7480 - val_loss: 0.6116 - val_accuracy: 0.7962\n",
            "Epoch 217/300\n",
            "219/219 [==============================] - 1s 4ms/step - loss: 0.7709 - accuracy: 0.7463 - val_loss: 0.6063 - val_accuracy: 0.8071\n",
            "Epoch 218/300\n",
            "219/219 [==============================] - 1s 4ms/step - loss: 0.7798 - accuracy: 0.7414 - val_loss: 0.6135 - val_accuracy: 0.8082\n",
            "Epoch 219/300\n",
            "219/219 [==============================] - 1s 4ms/step - loss: 0.8016 - accuracy: 0.7370 - val_loss: 0.6273 - val_accuracy: 0.8094\n",
            "Epoch 220/300\n",
            "219/219 [==============================] - 1s 4ms/step - loss: 0.8017 - accuracy: 0.7452 - val_loss: 0.6204 - val_accuracy: 0.8025\n",
            "Epoch 221/300\n",
            "219/219 [==============================] - 1s 4ms/step - loss: 0.7714 - accuracy: 0.7446 - val_loss: 0.6137 - val_accuracy: 0.8071\n",
            "Epoch 222/300\n",
            "219/219 [==============================] - 1s 4ms/step - loss: 0.7549 - accuracy: 0.7525 - val_loss: 0.6248 - val_accuracy: 0.8048\n",
            "Epoch 223/300\n",
            "219/219 [==============================] - 1s 4ms/step - loss: 0.7504 - accuracy: 0.7536 - val_loss: 0.6174 - val_accuracy: 0.8082\n",
            "Epoch 224/300\n",
            "219/219 [==============================] - 1s 4ms/step - loss: 0.7763 - accuracy: 0.7369 - val_loss: 0.6179 - val_accuracy: 0.8054\n",
            "Epoch 225/300\n",
            "219/219 [==============================] - 1s 4ms/step - loss: 0.7549 - accuracy: 0.7480 - val_loss: 0.6126 - val_accuracy: 0.8128\n",
            "Epoch 226/300\n",
            "219/219 [==============================] - 1s 4ms/step - loss: 0.7624 - accuracy: 0.7493 - val_loss: 0.6407 - val_accuracy: 0.7939\n",
            "Epoch 227/300\n",
            "219/219 [==============================] - 1s 4ms/step - loss: 0.7920 - accuracy: 0.7416 - val_loss: 0.6188 - val_accuracy: 0.8111\n",
            "Epoch 228/300\n",
            "219/219 [==============================] - 1s 4ms/step - loss: 0.7595 - accuracy: 0.7482 - val_loss: 0.6183 - val_accuracy: 0.8151\n",
            "Epoch 229/300\n",
            "219/219 [==============================] - 1s 4ms/step - loss: 0.7339 - accuracy: 0.7556 - val_loss: 0.6230 - val_accuracy: 0.8019\n",
            "Epoch 230/300\n",
            "219/219 [==============================] - 1s 4ms/step - loss: 0.7452 - accuracy: 0.7606 - val_loss: 0.5989 - val_accuracy: 0.8157\n",
            "Epoch 231/300\n",
            "219/219 [==============================] - 1s 4ms/step - loss: 0.7745 - accuracy: 0.7475 - val_loss: 0.6077 - val_accuracy: 0.8065\n",
            "Epoch 232/300\n",
            "219/219 [==============================] - 1s 4ms/step - loss: 0.7708 - accuracy: 0.7467 - val_loss: 0.6472 - val_accuracy: 0.8025\n",
            "Epoch 233/300\n",
            "219/219 [==============================] - 1s 4ms/step - loss: 0.7875 - accuracy: 0.7422 - val_loss: 0.6179 - val_accuracy: 0.8134\n",
            "Epoch 234/300\n",
            "219/219 [==============================] - 1s 4ms/step - loss: 0.7888 - accuracy: 0.7386 - val_loss: 0.6023 - val_accuracy: 0.8151\n",
            "Epoch 235/300\n",
            "219/219 [==============================] - 1s 4ms/step - loss: 0.7584 - accuracy: 0.7460 - val_loss: 0.5940 - val_accuracy: 0.8174\n",
            "Epoch 236/300\n",
            "219/219 [==============================] - 1s 4ms/step - loss: 0.7504 - accuracy: 0.7497 - val_loss: 0.5945 - val_accuracy: 0.8117\n",
            "Epoch 237/300\n",
            "219/219 [==============================] - 1s 4ms/step - loss: 0.7790 - accuracy: 0.7449 - val_loss: 0.6255 - val_accuracy: 0.7974\n",
            "Epoch 238/300\n",
            "219/219 [==============================] - 1s 4ms/step - loss: 0.7764 - accuracy: 0.7460 - val_loss: 0.6066 - val_accuracy: 0.7974\n",
            "Epoch 239/300\n",
            "219/219 [==============================] - 1s 4ms/step - loss: 0.7764 - accuracy: 0.7433 - val_loss: 0.6143 - val_accuracy: 0.8122\n",
            "Epoch 240/300\n",
            "219/219 [==============================] - 1s 4ms/step - loss: 0.7616 - accuracy: 0.7520 - val_loss: 0.6014 - val_accuracy: 0.8094\n",
            "Epoch 241/300\n",
            "219/219 [==============================] - 1s 4ms/step - loss: 0.7509 - accuracy: 0.7456 - val_loss: 0.6071 - val_accuracy: 0.8100\n",
            "Epoch 242/300\n",
            "219/219 [==============================] - 1s 4ms/step - loss: 0.7517 - accuracy: 0.7506 - val_loss: 0.5951 - val_accuracy: 0.8128\n",
            "Epoch 243/300\n",
            "219/219 [==============================] - 1s 4ms/step - loss: 0.7464 - accuracy: 0.7459 - val_loss: 0.6003 - val_accuracy: 0.8094\n",
            "Epoch 244/300\n",
            "219/219 [==============================] - 1s 4ms/step - loss: 0.7524 - accuracy: 0.7552 - val_loss: 0.5874 - val_accuracy: 0.8122\n",
            "Epoch 245/300\n",
            "219/219 [==============================] - 1s 4ms/step - loss: 0.7708 - accuracy: 0.7489 - val_loss: 0.6122 - val_accuracy: 0.8025\n",
            "Epoch 246/300\n",
            "219/219 [==============================] - 1s 4ms/step - loss: 0.7769 - accuracy: 0.7446 - val_loss: 0.6093 - val_accuracy: 0.8077\n",
            "Epoch 247/300\n",
            "219/219 [==============================] - 1s 4ms/step - loss: 0.7404 - accuracy: 0.7542 - val_loss: 0.5777 - val_accuracy: 0.8105\n",
            "Epoch 248/300\n",
            "219/219 [==============================] - 1s 4ms/step - loss: 0.7465 - accuracy: 0.7470 - val_loss: 0.6142 - val_accuracy: 0.7951\n",
            "Epoch 249/300\n",
            "219/219 [==============================] - 1s 4ms/step - loss: 0.7474 - accuracy: 0.7525 - val_loss: 0.6074 - val_accuracy: 0.8122\n",
            "Epoch 250/300\n",
            "219/219 [==============================] - 1s 4ms/step - loss: 0.7556 - accuracy: 0.7508 - val_loss: 0.6070 - val_accuracy: 0.8054\n",
            "Epoch 251/300\n",
            "219/219 [==============================] - 1s 4ms/step - loss: 0.7633 - accuracy: 0.7472 - val_loss: 0.5979 - val_accuracy: 0.8082\n",
            "Epoch 252/300\n",
            "219/219 [==============================] - 1s 4ms/step - loss: 0.7631 - accuracy: 0.7503 - val_loss: 0.6179 - val_accuracy: 0.8071\n",
            "Epoch 253/300\n",
            "219/219 [==============================] - 1s 4ms/step - loss: 0.7506 - accuracy: 0.7450 - val_loss: 0.5959 - val_accuracy: 0.8157\n",
            "Epoch 254/300\n",
            "219/219 [==============================] - 1s 4ms/step - loss: 0.7580 - accuracy: 0.7503 - val_loss: 0.5918 - val_accuracy: 0.8220\n",
            "Epoch 255/300\n",
            "219/219 [==============================] - 1s 4ms/step - loss: 0.7868 - accuracy: 0.7436 - val_loss: 0.6220 - val_accuracy: 0.8019\n",
            "Epoch 256/300\n",
            "219/219 [==============================] - 1s 4ms/step - loss: 0.7516 - accuracy: 0.7530 - val_loss: 0.6049 - val_accuracy: 0.8019\n",
            "Epoch 257/300\n",
            "219/219 [==============================] - 1s 4ms/step - loss: 0.7733 - accuracy: 0.7475 - val_loss: 0.6043 - val_accuracy: 0.8157\n",
            "Epoch 258/300\n",
            "219/219 [==============================] - 1s 4ms/step - loss: 0.7464 - accuracy: 0.7509 - val_loss: 0.6222 - val_accuracy: 0.8019\n",
            "Epoch 259/300\n",
            "219/219 [==============================] - 1s 4ms/step - loss: 0.7681 - accuracy: 0.7417 - val_loss: 0.6156 - val_accuracy: 0.8117\n",
            "Epoch 260/300\n",
            "219/219 [==============================] - 1s 4ms/step - loss: 0.7691 - accuracy: 0.7393 - val_loss: 0.6032 - val_accuracy: 0.8117\n",
            "Epoch 261/300\n",
            "219/219 [==============================] - 1s 4ms/step - loss: 0.7206 - accuracy: 0.7591 - val_loss: 0.5882 - val_accuracy: 0.8117\n",
            "Epoch 262/300\n",
            "219/219 [==============================] - 1s 4ms/step - loss: 0.7381 - accuracy: 0.7533 - val_loss: 0.6007 - val_accuracy: 0.8140\n",
            "Epoch 263/300\n",
            "219/219 [==============================] - 1s 4ms/step - loss: 0.7743 - accuracy: 0.7485 - val_loss: 0.6169 - val_accuracy: 0.8168\n",
            "Epoch 264/300\n",
            "219/219 [==============================] - 1s 4ms/step - loss: 0.7381 - accuracy: 0.7591 - val_loss: 0.5939 - val_accuracy: 0.8140\n",
            "Epoch 265/300\n",
            "219/219 [==============================] - 1s 4ms/step - loss: 0.7632 - accuracy: 0.7503 - val_loss: 0.5804 - val_accuracy: 0.8197\n",
            "Epoch 266/300\n",
            "219/219 [==============================] - 1s 4ms/step - loss: 0.7412 - accuracy: 0.7585 - val_loss: 0.5975 - val_accuracy: 0.8185\n",
            "Epoch 267/300\n",
            "219/219 [==============================] - 1s 4ms/step - loss: 0.7074 - accuracy: 0.7672 - val_loss: 0.5780 - val_accuracy: 0.8163\n",
            "Epoch 268/300\n",
            "219/219 [==============================] - 1s 4ms/step - loss: 0.7420 - accuracy: 0.7572 - val_loss: 0.5882 - val_accuracy: 0.8105\n",
            "Epoch 269/300\n",
            "219/219 [==============================] - 1s 4ms/step - loss: 0.7369 - accuracy: 0.7563 - val_loss: 0.5855 - val_accuracy: 0.8157\n",
            "Epoch 270/300\n",
            "219/219 [==============================] - 1s 4ms/step - loss: 0.7518 - accuracy: 0.7472 - val_loss: 0.5829 - val_accuracy: 0.8048\n",
            "Epoch 271/300\n",
            "219/219 [==============================] - 1s 6ms/step - loss: 0.7537 - accuracy: 0.7540 - val_loss: 0.5967 - val_accuracy: 0.8151\n",
            "Epoch 272/300\n",
            "219/219 [==============================] - 1s 6ms/step - loss: 0.7540 - accuracy: 0.7545 - val_loss: 0.6065 - val_accuracy: 0.8163\n",
            "Epoch 273/300\n",
            "219/219 [==============================] - 1s 6ms/step - loss: 0.7668 - accuracy: 0.7475 - val_loss: 0.6061 - val_accuracy: 0.8111\n",
            "Epoch 274/300\n",
            "219/219 [==============================] - 1s 5ms/step - loss: 0.7450 - accuracy: 0.7546 - val_loss: 0.5960 - val_accuracy: 0.8100\n",
            "Epoch 275/300\n",
            "219/219 [==============================] - 1s 4ms/step - loss: 0.7416 - accuracy: 0.7543 - val_loss: 0.5928 - val_accuracy: 0.8094\n",
            "Epoch 276/300\n",
            "219/219 [==============================] - 1s 4ms/step - loss: 0.7345 - accuracy: 0.7542 - val_loss: 0.5850 - val_accuracy: 0.8180\n",
            "Epoch 277/300\n",
            "219/219 [==============================] - 1s 4ms/step - loss: 0.7420 - accuracy: 0.7571 - val_loss: 0.5946 - val_accuracy: 0.8071\n",
            "Epoch 278/300\n",
            "219/219 [==============================] - 1s 4ms/step - loss: 0.7563 - accuracy: 0.7486 - val_loss: 0.5995 - val_accuracy: 0.8134\n",
            "Epoch 279/300\n",
            "219/219 [==============================] - 1s 4ms/step - loss: 0.7524 - accuracy: 0.7559 - val_loss: 0.6193 - val_accuracy: 0.8054\n",
            "Epoch 280/300\n",
            "219/219 [==============================] - 1s 4ms/step - loss: 0.7492 - accuracy: 0.7556 - val_loss: 0.6018 - val_accuracy: 0.8094\n",
            "Epoch 281/300\n",
            "219/219 [==============================] - 1s 4ms/step - loss: 0.7367 - accuracy: 0.7605 - val_loss: 0.6172 - val_accuracy: 0.8060\n",
            "Epoch 282/300\n",
            "219/219 [==============================] - 1s 4ms/step - loss: 0.7513 - accuracy: 0.7506 - val_loss: 0.6115 - val_accuracy: 0.8054\n",
            "Epoch 283/300\n",
            "219/219 [==============================] - 1s 4ms/step - loss: 0.7391 - accuracy: 0.7596 - val_loss: 0.6015 - val_accuracy: 0.8094\n",
            "Epoch 284/300\n",
            "219/219 [==============================] - 1s 4ms/step - loss: 0.7423 - accuracy: 0.7510 - val_loss: 0.5906 - val_accuracy: 0.8174\n",
            "Epoch 285/300\n",
            "219/219 [==============================] - 1s 4ms/step - loss: 0.7385 - accuracy: 0.7560 - val_loss: 0.5979 - val_accuracy: 0.8208\n",
            "Epoch 286/300\n",
            "219/219 [==============================] - 1s 4ms/step - loss: 0.7366 - accuracy: 0.7553 - val_loss: 0.5811 - val_accuracy: 0.8191\n",
            "Epoch 287/300\n",
            "219/219 [==============================] - 1s 4ms/step - loss: 0.7279 - accuracy: 0.7626 - val_loss: 0.5818 - val_accuracy: 0.8145\n",
            "Epoch 288/300\n",
            "219/219 [==============================] - 1s 4ms/step - loss: 0.7389 - accuracy: 0.7586 - val_loss: 0.6082 - val_accuracy: 0.7997\n",
            "Epoch 289/300\n",
            "219/219 [==============================] - 1s 4ms/step - loss: 0.7369 - accuracy: 0.7550 - val_loss: 0.5671 - val_accuracy: 0.8226\n",
            "Epoch 290/300\n",
            "219/219 [==============================] - 1s 4ms/step - loss: 0.7442 - accuracy: 0.7543 - val_loss: 0.5883 - val_accuracy: 0.8180\n",
            "Epoch 291/300\n",
            "219/219 [==============================] - 1s 4ms/step - loss: 0.7409 - accuracy: 0.7512 - val_loss: 0.5858 - val_accuracy: 0.8100\n",
            "Epoch 292/300\n",
            "219/219 [==============================] - 1s 4ms/step - loss: 0.7463 - accuracy: 0.7562 - val_loss: 0.5925 - val_accuracy: 0.8082\n",
            "Epoch 293/300\n",
            "219/219 [==============================] - 1s 4ms/step - loss: 0.7213 - accuracy: 0.7532 - val_loss: 0.6036 - val_accuracy: 0.8100\n",
            "Epoch 294/300\n",
            "219/219 [==============================] - 1s 4ms/step - loss: 0.7337 - accuracy: 0.7529 - val_loss: 0.5997 - val_accuracy: 0.8191\n",
            "Epoch 295/300\n",
            "219/219 [==============================] - 1s 4ms/step - loss: 0.7502 - accuracy: 0.7549 - val_loss: 0.5725 - val_accuracy: 0.8243\n",
            "Epoch 296/300\n",
            "219/219 [==============================] - 1s 4ms/step - loss: 0.7506 - accuracy: 0.7525 - val_loss: 0.5852 - val_accuracy: 0.8117\n",
            "Epoch 297/300\n",
            "219/219 [==============================] - 1s 4ms/step - loss: 0.7224 - accuracy: 0.7602 - val_loss: 0.5679 - val_accuracy: 0.8214\n",
            "Epoch 298/300\n",
            "219/219 [==============================] - 1s 4ms/step - loss: 0.7217 - accuracy: 0.7603 - val_loss: 0.5964 - val_accuracy: 0.8185\n",
            "Epoch 299/300\n",
            "219/219 [==============================] - 1s 4ms/step - loss: 0.7622 - accuracy: 0.7529 - val_loss: 0.5776 - val_accuracy: 0.8163\n",
            "Epoch 300/300\n",
            "219/219 [==============================] - 1s 4ms/step - loss: 0.7142 - accuracy: 0.7652 - val_loss: 0.5990 - val_accuracy: 0.8168\n"
          ]
        },
        {
          "output_type": "execute_result",
          "data": {
            "text/plain": [
              "<keras.callbacks.History at 0x7f5a6a65cc10>"
            ]
          },
          "metadata": {},
          "execution_count": 32
        }
      ]
    },
    {
      "cell_type": "markdown",
      "metadata": {
        "id": "QCDvoG7WykKW"
      },
      "source": [
        "# Yeni Bölüm"
      ]
    },
    {
      "cell_type": "code",
      "source": [
        "validation_test_set_accuracy=model.evaluate(xtest,ytest,verbose=0)\n",
        "print(validation_test_set_accuracy[1])"
      ],
      "metadata": {
        "colab": {
          "base_uri": "https://localhost:8080/"
        },
        "id": "e9rI3fFYxIgP",
        "outputId": "f1332454-2e88-4271-b127-bedff7933160"
      },
      "execution_count": null,
      "outputs": [
        {
          "output_type": "stream",
          "name": "stdout",
          "text": [
            "0.8156840205192566\n"
          ]
        }
      ]
    },
    {
      "cell_type": "code",
      "source": [
        "xtest[1]"
      ],
      "metadata": {
        "colab": {
          "base_uri": "https://localhost:8080/"
        },
        "id": "JiqKCzm4xMED",
        "outputId": "d19cd523-694f-4489-a0f0-29d1410aa963"
      },
      "execution_count": null,
      "outputs": [
        {
          "output_type": "execute_result",
          "data": {
            "text/plain": [
              "array([-465.89066  ,    1.1322277,  -34.01122  ,   35.365326 ,\n",
              "        -14.865486 ,  -19.09527  ,   -0.5655366,  -16.102211 ,\n",
              "        -21.32794  ,    7.7042246,  -29.161444 ,  -18.939268 ,\n",
              "         -2.9505708,   -8.135997 ,  -15.148013 ,   -6.580668 ,\n",
              "         -7.555405 ,    9.359482 ,   14.432987 ,   21.94775  ,\n",
              "         20.870613 ,    1.3638182,  -19.213827 ,   -4.613979 ,\n",
              "         -1.0521431,    3.2284064,   -6.983857 ,  -16.403254 ,\n",
              "        -10.018602 ,   13.024475 ,    0.5268236,  -23.8531   ,\n",
              "        -15.273722 ,    9.262865 ,   10.387703 ,   -0.562457 ,\n",
              "         -1.2470247,   17.716091 ,   13.853949 ,   -5.1873612],\n",
              "      dtype=float32)"
            ]
          },
          "metadata": {},
          "execution_count": 35
        }
      ]
    },
    {
      "cell_type": "code",
      "source": [
        "filename=\"/content/drive/MyDrive/UrbanSound8K/UrbanSound8K/audio/fold1/101415-3-0-3.wav\"\n",
        "sound_signal,sample_rate=librosa.load(filename,res_type=\"kaiser_fast\")\n",
        "mfcc_features=librosa.feature.mfcc(y=sound_signal,sr=sample_rate,n_mfcc=40)\n",
        "mfccs_scaled_features=np.mean(mfcc_features.T,axis=0)  "
      ],
      "metadata": {
        "id": "k4FY0yO2xUaw"
      },
      "execution_count": null,
      "outputs": []
    },
    {
      "cell_type": "code",
      "source": [
        "mfccs_scaled_features"
      ],
      "metadata": {
        "colab": {
          "base_uri": "https://localhost:8080/"
        },
        "id": "6Lai6n7bxYZ0",
        "outputId": "0188808a-acfa-4779-c3db-e928d30cd33a"
      },
      "execution_count": null,
      "outputs": [
        {
          "output_type": "execute_result",
          "data": {
            "text/plain": [
              "array([-3.6778754e+02,  1.2829482e+02,  2.9344378e+01, -2.1593128e+01,\n",
              "       -1.4899752e+01,  2.3224065e+00, -2.8636347e+01, -1.7783079e+01,\n",
              "       -2.3526657e+01, -8.7781286e+00,  1.0151660e+00, -4.4729056e+00,\n",
              "        4.4159374e+00, -1.9932469e+00, -8.3796940e+00, -5.7252812e+00,\n",
              "       -3.4076531e+00,  5.5071497e+00, -4.8758101e+00, -2.7881637e+00,\n",
              "        5.0240469e-01, -1.6439449e+00, -2.4790258e+00, -5.6182961e+00,\n",
              "        8.8173139e-01, -1.7517837e+00, -5.1602168e+00, -6.8852824e-01,\n",
              "       -1.2892202e+00,  1.4852262e-01, -3.3912435e+00, -2.3647780e+00,\n",
              "       -2.9658182e+00,  1.2061938e+00,  8.5898645e-02, -2.0421486e+00,\n",
              "       -1.4161747e+00,  4.6596810e-01, -2.4364538e+00, -5.2852588e+00],\n",
              "      dtype=float32)"
            ]
          },
          "metadata": {},
          "execution_count": 38
        }
      ]
    },
    {
      "cell_type": "code",
      "source": [
        "mfccs_scaled_features=mfccs_scaled_features.reshape(1,-1)"
      ],
      "metadata": {
        "id": "pkOMGaztxa5A"
      },
      "execution_count": null,
      "outputs": []
    },
    {
      "cell_type": "code",
      "source": [
        "mfccs_scaled_features.shape"
      ],
      "metadata": {
        "colab": {
          "base_uri": "https://localhost:8080/"
        },
        "id": "K0olDJQKxeE1",
        "outputId": "580110ee-3662-4bd6-abac-5e22bca2f64d"
      },
      "execution_count": null,
      "outputs": [
        {
          "output_type": "execute_result",
          "data": {
            "text/plain": [
              "(1, 40)"
            ]
          },
          "metadata": {},
          "execution_count": 40
        }
      ]
    },
    {
      "cell_type": "code",
      "source": [
        "result_array=model.predict(mfccs_scaled_features) "
      ],
      "metadata": {
        "id": "53x7QnyoxiuF"
      },
      "execution_count": null,
      "outputs": []
    },
    {
      "cell_type": "code",
      "source": [
        "result_array"
      ],
      "metadata": {
        "colab": {
          "base_uri": "https://localhost:8080/"
        },
        "id": "EkhmDgfLxlIl",
        "outputId": "e50fb864-13a3-4e40-df5f-00e285b1cb68"
      },
      "execution_count": null,
      "outputs": [
        {
          "output_type": "execute_result",
          "data": {
            "text/plain": [
              "array([[1.4011860e-16, 3.7138240e-12, 7.2385444e-09, 9.9998975e-01,\n",
              "        9.3748162e-11, 4.1347829e-15, 2.7841484e-06, 2.5038093e-23,\n",
              "        2.8861905e-08, 7.4846025e-06]], dtype=float32)"
            ]
          },
          "metadata": {},
          "execution_count": 42
        }
      ]
    },
    {
      "cell_type": "code",
      "source": [
        "result_classes=[\"klima\",\"korna\",\"çocuk sesleri\"\n",
        ",\"köpek havlaması\",\"sondaj\",\"motor sesi\",\"silah sesi\"\n",
        ",\"darbeli kırıcı\",\"siren\",\"sokak müziği\"]"
      ],
      "metadata": {
        "id": "dpGw3vGmxnWF"
      },
      "execution_count": null,
      "outputs": []
    },
    {
      "cell_type": "code",
      "source": [
        "result_classes"
      ],
      "metadata": {
        "colab": {
          "base_uri": "https://localhost:8080/"
        },
        "id": "H2xmA3g97MUL",
        "outputId": "1d093beb-18fc-4450-df2a-1e2183544084"
      },
      "execution_count": null,
      "outputs": [
        {
          "output_type": "execute_result",
          "data": {
            "text/plain": [
              "['klima',\n",
              " 'korna',\n",
              " 'çocuk sesleri',\n",
              " 'köpek havlaması',\n",
              " 'sondaj',\n",
              " 'motor sesi',\n",
              " 'silah sesi',\n",
              " 'darbeli kırıcı',\n",
              " 'siren',\n",
              " 'sokak müziği']"
            ]
          },
          "metadata": {},
          "execution_count": 44
        }
      ]
    },
    {
      "cell_type": "code",
      "source": [
        "result=np.argmax(result_array[0]) "
      ],
      "metadata": {
        "id": "RP7VgUpJ7Q6P"
      },
      "execution_count": null,
      "outputs": []
    },
    {
      "cell_type": "code",
      "source": [
        "result_classes[result]"
      ],
      "metadata": {
        "id": "ukNPUzb07VLB",
        "outputId": "aa63534d-0fa8-4488-eec1-10f4357e9465",
        "colab": {
          "base_uri": "https://localhost:8080/",
          "height": 35
        }
      },
      "execution_count": null,
      "outputs": [
        {
          "output_type": "execute_result",
          "data": {
            "text/plain": [
              "'köpek havlaması'"
            ],
            "application/vnd.google.colaboratory.intrinsic+json": {
              "type": "string"
            }
          },
          "metadata": {},
          "execution_count": 46
        }
      ]
    }
  ],
  "metadata": {
    "colab": {
      "collapsed_sections": [],
      "provenance": [],
      "mount_file_id": "1eQvwChJAwW_n2_1_e-xnYQbGVM6JCjJv",
      "authorship_tag": "ABX9TyMyelawoo3JgEOOf9o9B0RZ",
      "include_colab_link": true
    },
    "kernelspec": {
      "display_name": "Python 3",
      "name": "python3"
    },
    "language_info": {
      "name": "python"
    }
  },
  "nbformat": 4,
  "nbformat_minor": 0
}